{
 "cells": [
  {
   "cell_type": "raw",
   "metadata": {},
   "source": [
    "---\n",
    "title: \"7. Data Viz 3 - Visualizing Point Patterns\"\n",
    "output: html_document\n",
    "---"
   ]
  },
  {
   "cell_type": "markdown",
   "metadata": {},
   "source": [
    "\n",
    "## Assignment Objectives\n",
    "\n",
    "By the end of this practical lab you will be able to:\n",
    "* Create "
   ]
  },
  {
   "cell_type": "markdown",
   "metadata": {},
   "source": [
    "- binning\n",
    "- kde\n",
    "\n",
    "We will first read some crime data into R for the [City of Chicago, USA](https://data.cityofchicago.org/view/5cd6-ry5g). This contains the recorded crimes during the year 2016 as of 24th December 2016; with the attributes including a category of the crime and a variety of other information such as location and date / time. The following code imports the data, parses the date and time stamp using the base R function strptime() and also ymd_hms() from the package lubridate. We then remove unwanted columns and restrict the results to \"BURGLARY\".\n"
   ]
  },
  {
   "cell_type": "code",
   "execution_count": null,
   "metadata": {},
   "outputs": [],
   "source": [
    "# Import Crimes\n",
    "crimes <- read.csv(\"./data/chicago_crimes_2016.csv\")\n",
    "\n",
    "# Append days, months\n",
    "install.packages(\"lubridate\")\n",
    "library(lubridate)\n",
    "\n",
    "#Parse date & time\n",
    "crimes$New_Date <- ymd_hms((strptime(crimes$Date, \"%m/%d/%Y %I:%M:%S %p\",tz=\"UTC\")))\n",
    "\n",
    "#Subset the data to remove unwanted colums\n",
    "crimes <- crimes[crimes$Primary.Type == \"BURGLARY\",c(\"ID\",\"Latitude\",\"Longitude\",\"New_Date\")]\n",
    "\n",
    "#View the top of the data\n",
    "head(crimes)"
   ]
  },
  {
   "cell_type": "markdown",
   "metadata": {},
   "source": [
    "We can then see how the burgalaries are distributed by day of the week:"
   ]
  },
  {
   "cell_type": "code",
   "execution_count": null,
   "metadata": {},
   "outputs": [],
   "source": [
    "ggplot(data=crimes, aes(wday(crimes$New_Date,label = TRUE))) +\n",
    "    geom_bar() +\n",
    "    xlab(\"Day\") + \n",
    "    ylab(\"Burglaries (count)\")"
   ]
  },
  {
   "cell_type": "markdown",
   "metadata": {},
   "source": [
    "Or by month:"
   ]
  },
  {
   "cell_type": "code",
   "execution_count": null,
   "metadata": {},
   "outputs": [],
   "source": [
    "ggplot(data=crimes, aes(month(crimes$New_Date,label = TRUE))) +\n",
    "    geom_bar() +\n",
    "    xlab(\"Month\") + \n",
    "    ylab(\"Burglaries (count)\")"
   ]
  },
  {
   "cell_type": "markdown",
   "metadata": {},
   "source": [
    "We can also use the facet_grid option within ggplot to produce separate plots for each month; and additionally add an aesthetic to the geom_bar which colors each day differently."
   ]
  },
  {
   "cell_type": "code",
   "execution_count": null,
   "metadata": {},
   "outputs": [],
   "source": [
    "ggplot(data=crimes, aes(wday(crimes$New_Date,label = TRUE))) +\n",
    "    geom_bar(aes(,fill=wday(crimes$New_Date,label = TRUE))) +\n",
    "    xlab(\"Day\") + \n",
    "    ylab(\"Burglaries (count)\") +\n",
    "    facet_grid(~month(crimes$New_Date,label = TRUE)) +\n",
    "    theme(axis.text.x = element_text(angle = 90, hjust = 1),legend.position=\"none\")"
   ]
  },
  {
   "cell_type": "markdown",
   "metadata": {},
   "source": [
    "Using a similar technique we can also explore the time of the day in which burglaries are recorded broken down into:"
   ]
  },
  {
   "cell_type": "code",
   "execution_count": null,
   "metadata": {
    "lines_to_next_cell": 0
   },
   "outputs": [],
   "source": [
    "#Create a summary data frame of the counts of burglaries by hour time band and quarter of the year\n",
    "t <- data.frame(table(hour(crimes$New_Date),quarter(crimes$New_Date)))\n",
    "colnames(t) <- c(\"Time\",\"Quarter\",\"Freq\") # Name columns as something sensible\n",
    "\n",
    "#Create plot\n",
    "p <- ggplot(t, aes(x=Time, y=Freq, group=Quarter, colour = Quarter))\n",
    "p + geom_line()\n"
   ]
  },
  {
   "cell_type": "markdown",
   "metadata": {},
   "source": [
    "\n",
    "\n",
    "\n",
    "\n"
   ]
  },
  {
   "cell_type": "markdown",
   "metadata": {},
   "source": [
    "We will now consider "
   ]
  },
  {
   "cell_type": "code",
   "execution_count": null,
   "metadata": {},
   "outputs": [],
   "source": [
    "\n",
    "\n",
    "library(ggmap)\n",
    "#Plot\n",
    "chicago <- get_map(location = \"chicago\", zoom = 11)\n",
    "ggmap(chicago) + geom_point(data = crimes, aes(x = Longitude, y = Latitude))"
   ]
  },
  {
   "cell_type": "code",
   "execution_count": null,
   "metadata": {
    "eval": false,
    "lines_to_next_cell": 0
   },
   "outputs": [],
   "source": [
    "install.packages(\"pointdensityP\")"
   ]
  },
  {
   "cell_type": "code",
   "execution_count": null,
   "metadata": {
    "lines_to_next_cell": 0
   },
   "outputs": [],
   "source": [
    "library(pointdensityP)"
   ]
  },
  {
   "cell_type": "markdown",
   "metadata": {},
   "source": [
    "\n",
    "\n"
   ]
  },
  {
   "cell_type": "code",
   "execution_count": null,
   "metadata": {
    "lines_to_next_cell": 2
   },
   "outputs": [],
   "source": [
    "# Remove crimes with no lat / lon\n",
    "crimes <- crimes[!is.na(crimes$Latitude),]\n",
    "\n",
    "chicago <- get_map(location = \"chicago\", zoom = 11)\n",
    "\n",
    "\n",
    "ggmap(chicago, base_layer = ggplot(crimes, aes(x=Longitude, y=Latitude))) +\n",
    "coord_cartesian(xlim = c(-87.84918,-87.3)) +\n",
    "stat_binhex(bins=20) + \n",
    "theme_bw() +\n",
    "theme(axis.line = element_blank(),\n",
    "      axis.text = element_blank(),\n",
    "      axis.title=element_blank(),\n",
    "      axis.ticks = element_blank(),\n",
    "      legend.key = element_blank(),\n",
    "      panel.grid.major = element_blank(),\n",
    "      panel.grid.minor = element_blank(),\n",
    "      panel.border = element_blank(),\n",
    "      panel.background = element_blank())\n",
    "\n",
    "\n"
   ]
  },
  {
   "cell_type": "code",
   "execution_count": null,
   "metadata": {
    "lines_to_next_cell": 2
   },
   "outputs": [],
   "source": [
    "\n",
    "\n",
    "ggmap(chicago, base_layer = ggplot(crimes, aes(x=Longitude, y=Latitude))) +\n",
    "stat_bin2d(bins = 20)"
   ]
  },
  {
   "cell_type": "code",
   "execution_count": null,
   "metadata": {
    "lines_to_next_cell": 0
   },
   "outputs": [],
   "source": [
    "\n",
    "\n",
    "  \n",
    "ggmap(chicago, base_layer = ggplot(crimes, aes(x=Longitude, y=Latitude))) +\n",
    "  stat_density2d(aes(x = Longitude, y = Latitude,fill = ..level..,alpha=..level..), bins = 10, geom = \"polygon\", data = crimes) +\n",
    "  scale_fill_gradient(low = \"black\", high = \"red\")\n",
    "\n"
   ]
  },
  {
   "cell_type": "markdown",
   "metadata": {},
   "source": [
    "\n"
   ]
  },
  {
   "cell_type": "code",
   "execution_count": null,
   "metadata": {
    "lines_to_next_cell": 0
   },
   "outputs": [],
   "source": [
    "# Calculate Density\n",
    "density <- pointdensity(crimes,lat_col=\"Latitude\",lon_col=\"Longitude\",grid_size=1,radius=3)\n",
    "\n",
    "\n",
    "\n",
    "map_base <- qmap('Chicago', zoom = 11, darken=0.2) \n",
    "map_base + geom_point(aes(x = lon, y = lat, colour = count,alpha=count), \n",
    "    shape = 16, size = 1, data =density) + \n",
    "    scale_colour_gradient(low = \"yellow\", high = \"red\") "
   ]
  },
  {
   "cell_type": "markdown",
   "metadata": {},
   "source": []
  }
 ],
 "metadata": {
  "jupytext": {
   "cell_metadata_filter": "eval,-all",
   "main_language": "R",
   "notebook_metadata_filter": "-all"
  },
  "kernelspec": {
   "display_name": "Python 3",
   "language": "python",
   "name": "python3"
  },
  "language_info": {
   "codemirror_mode": {
    "name": "ipython",
    "version": 3
   },
   "file_extension": ".py",
   "mimetype": "text/x-python",
   "name": "python",
   "nbconvert_exporter": "python",
   "pygments_lexer": "ipython3",
   "version": "3.7.9"
  }
 },
 "nbformat": 4,
 "nbformat_minor": 4
}
