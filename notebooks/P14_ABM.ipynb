{
 "cells": [
  {
   "cell_type": "raw",
   "metadata": {},
   "source": [
    "---\n",
    "title: \"Agent Based Models with R and Netlogo\"\n",
    "output: html_document\n",
    "---"
   ]
  },
  {
   "cell_type": "markdown",
   "metadata": {
    "lines_to_next_cell": 0
   },
   "source": [
    "## Learning Objectives\n",
    "By the end of this practical lab you will be able to:\n",
    "\n",
    "* Understand how to setup and link R to Netlogo\n",
    "* Specify and run a basic ABM\n",
    "* Export outputs from Netlogo models into R\n",
    "\n",
    "## Setup and install\n",
    "\n",
    "You will first need to [download](https://ccl.northwestern.edu/netlogo/5.3.1/) and install the NetLogo software. You will also need at least Java 8 SDK, which can be downloaded [here](http://www.oracle.com/technetwork/java/javase/downloads/jdk8-downloads-2133151.html).\n",
    "\n",
    "Once installed we will then install the required packages:"
   ]
  },
  {
   "cell_type": "code",
   "execution_count": null,
   "metadata": {
    "eval": false,
    "message": false,
    "warning": false
   },
   "outputs": [],
   "source": [
    "install.packages(\"rJava\")\n",
    "install.packages(\"RNetLogo\")"
   ]
  },
  {
   "cell_type": "markdown",
   "metadata": {},
   "source": [
    "There are two options for running Netlogo; the first is in headless mode (without GUI), and the second is in GUI mode. If you wish to run the former, you can do this from within your normal R client; however, run \"Sys.setenv(NOAWT=1)\" before \"library(\"RNetLogo\")\"."
   ]
  },
  {
   "cell_type": "code",
   "execution_count": null,
   "metadata": {
    "message": false,
    "warning": false
   },
   "outputs": [],
   "source": [
    "Sys.setenv(NOAWT=1)\n",
    "library(\"RNetLogo\")\n",
    "library(\"ggplot2\")"
   ]
  },
  {
   "cell_type": "markdown",
   "metadata": {},
   "source": [
    "NetLogo can then be loaded as follows - with the path pointing to the correct installation location."
   ]
  },
  {
   "cell_type": "code",
   "execution_count": null,
   "metadata": {},
   "outputs": [],
   "source": [
    "NLStart(\"/Applications/NetLogo 6.0.2/Java\",gui = FALSE,nl.jarname = \"netlogo-6.0.2.jar\")\n"
   ]
  },
  {
   "cell_type": "markdown",
   "metadata": {},
   "source": [
    "In this example we will load the segregation model \"Segregation.nlogo\":"
   ]
  },
  {
   "cell_type": "code",
   "execution_count": null,
   "metadata": {},
   "outputs": [],
   "source": [
    "NLLoadModel(\"/Applications/NetLogo\\ 6.0.2/models/Sample\\ Models/Social\\ Science/Segregation.nlogo\")"
   ]
  },
  {
   "cell_type": "markdown",
   "metadata": {},
   "source": [
    "It is then possible to control any of the parameters that you could control using the GUI. As a reminder, a screen shot of the model interface is as follows:\n",
    "\n",
    "![](./seg_model.png)\n",
    "\n",
    "We can set the density; and then initialize the model (place the initial \"turtles\") as follows:"
   ]
  },
  {
   "cell_type": "code",
   "execution_count": null,
   "metadata": {},
   "outputs": [],
   "source": [
    "# Set the density\n",
    "NLCommand(\"set density 77\")\n",
    "# Initialize the model\n",
    "NLCommand(\"setup\")\n"
   ]
  },
  {
   "cell_type": "markdown",
   "metadata": {
    "lines_to_next_cell": 0
   },
   "source": [
    "We can then iterate the model in a number of ways; firstly progressing through a single \"tick\" as follows:"
   ]
  },
  {
   "cell_type": "code",
   "execution_count": null,
   "metadata": {
    "lines_to_next_cell": 0
   },
   "outputs": [],
   "source": [
    "NLCommand(\"go\")"
   ]
  },
  {
   "cell_type": "markdown",
   "metadata": {},
   "source": [
    "This can be run multiple times, or you can do repeat as follows:"
   ]
  },
  {
   "cell_type": "code",
   "execution_count": null,
   "metadata": {},
   "outputs": [],
   "source": [
    "NLDoCommand(5, \"go\")"
   ]
  },
  {
   "cell_type": "markdown",
   "metadata": {},
   "source": [
    "It is simple to check how many \"ticks\" of a model have been run as follows"
   ]
  },
  {
   "cell_type": "code",
   "execution_count": null,
   "metadata": {},
   "outputs": [],
   "source": [
    "NLReport(\"ticks\")"
   ]
  },
  {
   "cell_type": "markdown",
   "metadata": {},
   "source": [
    "We can also extract results from the model ticks; using the \"NLDoReport\" function to combine action statements - this also supplies a simple calculation to create a % of the agents (turtles) who are unhappy:"
   ]
  },
  {
   "cell_type": "code",
   "execution_count": null,
   "metadata": {
    "lines_to_next_cell": 0
   },
   "outputs": [],
   "source": [
    "# Set model up again\n",
    "NLCommand(\"setup\")\n",
    "# Unhappy agents at each tick\n",
    "unhappy <- NLDoReport(10, \"go\", \"(count turtles with [ not happy? ]) / (count turtles) * 100\")"
   ]
  },
  {
   "cell_type": "markdown",
   "metadata": {
    "lines_to_next_cell": 0
   },
   "source": [
    "We can then plot the results:"
   ]
  },
  {
   "cell_type": "code",
   "execution_count": null,
   "metadata": {},
   "outputs": [],
   "source": [
    "# Create a data frame of the results\n",
    "unhappy_df <- data.frame(ticks=1:10,unhappy=unlist(unhappy))\n",
    "\n",
    "# Simple plot\n",
    "ggplot(data=unhappy_df, aes(x=ticks, y=unhappy, group=1)) +\n",
    "  geom_line()+\n",
    "  geom_point()+\n",
    "  scale_x_discrete(limits=1:10)"
   ]
  },
  {
   "cell_type": "markdown",
   "metadata": {},
   "source": [
    "For many Netlogo models, these \"complete\" when some parameter is reached. In the case of the segregation models this is when there are no unhappy agents. Rather than specifying the number of ticks it is possible to let a model run to completion, making the test to check if there are any unhappy agents (turtles).\n",
    "\n",
    "Also note in this run that we use the option to output a data frame rather than to create this manually:"
   ]
  },
  {
   "cell_type": "code",
   "execution_count": null,
   "metadata": {},
   "outputs": [],
   "source": [
    "#Setup the model\n",
    "NLCommand(\"set density 70\")\n",
    "NLCommand(\"set %-similar-wanted 70\")\n",
    "NLCommand(\"setup\")\n",
    "\n",
    "#Run to completion\n",
    "unhappy_df_70 <- NLDoReportWhile(\"any? turtles with [ not happy? ]\", \"go\", c(\"ticks\", \"(count turtles with [ not happy? ]) / (count turtles) * 100\",\"70\"),as.data.frame = TRUE)"
   ]
  },
  {
   "cell_type": "markdown",
   "metadata": {},
   "source": [
    "We can now test the effect of different levels of the preference for similar neighbors.\n"
   ]
  },
  {
   "cell_type": "code",
   "execution_count": null,
   "metadata": {},
   "outputs": [],
   "source": [
    "#Setup the model\n",
    "NLCommand(\"set density 70\")\n",
    "NLCommand(\"set %-similar-wanted 60\")\n",
    "NLCommand(\"setup\")\n",
    "\n",
    "#Run to completion\n",
    "unhappy_df_60 <- NLDoReportWhile(\"any? turtles with [ not happy? ]\", \"go\", c(\"ticks\", \"(count turtles with [ not happy? ]) / (count turtles) * 100\",\"60\"),as.data.frame = TRUE)\n",
    "\n",
    "#Setup the model\n",
    "NLCommand(\"set density 70\")\n",
    "NLCommand(\"set %-similar-wanted 50\")\n",
    "NLCommand(\"setup\")\n",
    "\n",
    "#Run to completion\n",
    "unhappy_df_50 <- NLDoReportWhile(\"any? turtles with [ not happy? ]\", \"go\", c(\"ticks\", \"(count turtles with [ not happy? ]) / (count turtles) * 100\",\"50\"),as.data.frame = TRUE)\n"
   ]
  },
  {
   "cell_type": "markdown",
   "metadata": {},
   "source": [
    "We can then combine the results and create a plot:"
   ]
  },
  {
   "cell_type": "code",
   "execution_count": null,
   "metadata": {},
   "outputs": [],
   "source": [
    "#Combine the results\n",
    "unhappy_df_all <- rbind(unhappy_df_50,unhappy_df_60,unhappy_df_70)\n",
    "colnames(unhappy_df_all) <- c(\"ticks\",\"unhappy\",\"threshold\")\n",
    "unhappy_df_all$threshold <- factor(unhappy_df_all$threshold)\n",
    "\n",
    "# Simple plot\n",
    "ggplot(data=unhappy_df_all, aes(x=ticks, y=unhappy, group=threshold,colour=threshold)) +\n",
    "  geom_line()+\n",
    "  geom_point()+\n",
    "  scale_x_discrete(limits=1:max(unhappy_df_all$ticks))\n"
   ]
  },
  {
   "cell_type": "markdown",
   "metadata": {},
   "source": [
    "In this final example we load a model that performs a simple function to demonstrate a randomly walking agent. It is possible to use a loop, and for each iteration (tick), extract the location of the agent. These can be brought back into R and plotted.\n",
    "\n",
    "First we can load the model:"
   ]
  },
  {
   "cell_type": "code",
   "execution_count": null,
   "metadata": {},
   "outputs": [],
   "source": [
    "NLLoadModel(\"/Applications/NetLogo\\ 6.0.2/models/Code\\ Examples/Random\\ Walk\\ Example.nlogo\")"
   ]
  },
  {
   "cell_type": "markdown",
   "metadata": {},
   "source": [
    "Next we can setup the model, and create an empty dataframe that will be used to store the agent locations."
   ]
  },
  {
   "cell_type": "code",
   "execution_count": null,
   "metadata": {},
   "outputs": [],
   "source": [
    "NLCommand(\"setup\")\n",
    "\n",
    "#Get agent locations\n",
    "paths <- data.frame(xcor=NA,ycor=NA)"
   ]
  },
  {
   "cell_type": "markdown",
   "metadata": {},
   "source": [
    "The model is then run for 200 ticks, and the locations extracted."
   ]
  },
  {
   "cell_type": "code",
   "execution_count": null,
   "metadata": {},
   "outputs": [],
   "source": [
    "# Run for 200 steps\n",
    "for(x in 1:200){\n",
    "  NLDoCommand(1, \"go\") # Advance one tick\n",
    "  paths <- rbind(paths,NLGetAgentSet(c(\"xcor\", \"ycor\"), \"turtles\")) #get co-ordinate for tick\n",
    "}"
   ]
  },
  {
   "cell_type": "markdown",
   "metadata": {},
   "source": [
    "In order to create a plot, the ticks are added to the locations and are then used to color the path of the agent in a plot."
   ]
  },
  {
   "cell_type": "code",
   "execution_count": null,
   "metadata": {},
   "outputs": [],
   "source": [
    "# Add ticks on paths\n",
    "paths <- paths[-1,]\n",
    "paths$ticks <- 1:nrow(paths)\n",
    "\n",
    "# Create plot\n",
    "ggplot(data=paths, aes(x=xcor, y=ycor,colour=ticks)) +\n",
    "  geom_path()+\n",
    "  geom_point()"
   ]
  }
 ],
 "metadata": {
  "jupytext": {
   "cell_metadata_filter": "message,warning,eval,-all",
   "main_language": "R",
   "notebook_metadata_filter": "-all"
  }
 },
 "nbformat": 4,
 "nbformat_minor": 4
}
