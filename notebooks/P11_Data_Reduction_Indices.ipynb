{
 "cells": [
  {
   "cell_type": "raw",
   "metadata": {},
   "source": [
    "---\n",
    "title: \"Data Reduction - Indices\"\n",
    "output: html_document\n",
    "---"
   ]
  },
  {
   "cell_type": "markdown",
   "metadata": {},
   "source": [
    "## Assignment Objectives\n",
    "\n",
    "By the end of this practical lab you will be able to:\n",
    "\n",
    "* Rank and normalise an input dataset\n",
    "* Create the domains of index using equal weights\n",
    "* Rank and normalize the domains for creating the overall index\n",
    "* Visualise the new index using `tmap`\n",
    "\n",
    "## Composite Indicators\n",
    "\n",
    "Composite indicators are popular tools for measuring aspects of urban environments that are not directly measurable. Examples might include: deprivation, environment quality, human development etc.\n",
    "They are constructed for many purposes, such as monitoring implemented policies, communication to the public, and comparison within and between different municipalities. \n",
    "There is also not one method or approach to building an indicator, and the exact specification of methods are influenced both by the intended domain of application and the available data that might be selected as input. Thus,the Organization for Economic Co-operation and Development (OECD) published [the Handbook on constructing composite indicators](http://www.oecd.org/els/soc/handbookonconstructingcompositeindicatorsmethodologyanduserguide.htm) which provides some extended guidance and highlights some exemplar steps for building a composite indicator.\n",
    "\n",
    "In this practical, you will create a small area composite index of accessibility to health promoting/negating influences in the Great Britain at the level of Lower Super Output Areas (LSOAs); using open data provided by the [CDRC services](https://data.cdrc.ac.uk/dataset/access-to-healthy-assets-and-hazards-ahah). The new index will have three domains: access to health services, access to retail services with negating effect to health and the physical environment. Also, you will use two popular methods for normalising the variables and the domains: a) the Rank-based normalisation, known as [Rankit](http://digitalcommons.wayne.edu/jmasm/vol8/iss2/9) and b) the exponential transformation adopted by the Index of Multiple Deprivation 2015 (see [the technical report](https://www.gov.uk/government/publications/english-indices-of-deprivation-2015-technical-report))."
   ]
  },
  {
   "cell_type": "markdown",
   "metadata": {},
   "source": [
    "## Load data and Preparation\n",
    "\n",
    "First, you will load the `data.csv` csv file (also, available online [here](https://data.cdrc.ac.uk/dataset/access-to-healthy-assets-and-hazards-ahah)) which includes a set of variables related to the access to services and the quality of environment:\n",
    "\n",
    "| Field name | Units | Description |\n",
    "|------------|-------|-------------|\n",
    "|lsoa11| - | LSOA 2011 code |\n",
    "|gamb_d| Mean distance (km) |Gambling outlets|\n",
    "|ffood_d| Mean distance (km) |Fast food outlets|\n",
    "|pubs2_d| Mean distance (km) |Pubs/bars/nightclubs|\n",
    "|off2_d| Mean distance (km) |Off licenses|\n",
    "|tobac_d| Mean distance (km) |Tobacconists|\n",
    "|gpp_d| Mean distance (km) |GP surgeries|\t\n",
    "|ed_d| Mean distance (km) |A&E Hospitals|\n",
    "|dent_d| Mean distance (km) |Dentists|\n",
    "|pharm_d| Mean distance (km) |Pharmacies| \n",
    "|leis_d| Mean distance (km) |Leisure Centers|\n",
    "|no2|Annual mean (µgm^3)  |Nitrogen Dioxide|\n",
    "|pm10|Annual mean (µgm^3)  |Particulate Matter|\n",
    "|so2|Annual mean (µgm^3)  |Sulphur Dioxide|\n",
    "|green900| m^2  |Green Spaces|\n"
   ]
  },
  {
   "cell_type": "code",
   "execution_count": null,
   "metadata": {},
   "outputs": [],
   "source": [
    "# Load input data\n",
    "data <- read.csv(\"data.csv\")\n",
    "head(data)\n"
   ]
  },
  {
   "cell_type": "markdown",
   "metadata": {
    "lines_to_next_cell": 0
   },
   "source": [
    "The first stage in the analysis is to standardise the indicators producing ranks from best to worst. Therefore, you will use the `rank` function and set the `ties.methods = \"min\"`. This way   `min` assigns every tied element of your variable to the lowest rank (for more information type `?rank`)."
   ]
  },
  {
   "cell_type": "code",
   "execution_count": null,
   "metadata": {
    "lines_to_next_cell": 0
   },
   "outputs": [],
   "source": [
    "# Ranking \n",
    "data$gpp_rank <- rank(data$gpp_d,ties.method= \"min\")\n",
    "data$ed_rank <- rank(data$ed_d,ties.method= \"min\")\n",
    "data$dent_rank <- rank(data$dent_d,ties.method= \"min\")\n",
    "data$pharm_rank <- rank(data$pharm_d,ties.method= \"min\")\n",
    "data$leis_rank <- rank(data$leis_d,ties.method= \"min\")\n",
    "\n",
    "data$gamb_rank <- rank(data$gamb_d,ties.method= \"min\")\n",
    "data$ffood_rank <- rank(data$ffood_d,ties.method= \"min\")\n",
    "data$pubs2_rank <- rank(data$pubs2_d,ties.method= \"min\")\n",
    "data$off2_rank <- rank(data$off2_d,ties.method= \"min\")\n",
    "data$tobac_rank<- rank(data$tobac_d,ties.method= \"min\")\n",
    "\n",
    "data$g900_rank <- rank(data$green900,ties.method= \"min\")\n",
    "data$no2_rank <- rank(data$no2,ties.method= \"min\")\n",
    "data$pm10_rank <- rank(data$pm10,ties.method= \"min\")\n",
    "data$so2_rank <- rank(data$so2,ties.method= \"min\")\n"
   ]
  },
  {
   "cell_type": "markdown",
   "metadata": {},
   "source": [
    "Some of the ranked indicators will have an inverse direction, where lowest value refers to a worst rank. This is something you have to address by looking into the literature and identify the logical direction of each variable (e.g. accessibility to fast food outlets were identified as health negating,whereas accessibility to A&E Hospitals were health promoting). In this practical, the direction of each indicator is given by the following table: "
   ]
  },
  {
   "cell_type": "markdown",
   "metadata": {
    "lines_to_next_cell": 0
   },
   "source": [
    "|Domain|Indicator|Low value       |High value|\n",
    "|------|---------|----------------|----------|\n",
    "|Retail Environment|Accessibility to Fast food outlets|-|+|\n",
    "||Accessibility to Gambling outlets|-|+|\n",
    "||Accessibility to Off-licenses|-|+|\n",
    "||Accessibility to Tobacconists|-|+|\n",
    "||Accessibility to Pubs, bars and nightclubs|-|+|\n",
    "|Health Services|    Accessibility to GP practices|+|-|\n",
    "||Accessibility to A&E hospitals|+|-|\n",
    "||Accessibility to Pharmacies|+|-|\n",
    "||Accessibility to Dentist practices|+|-|\n",
    "||Accessibility to Leisure services|+|-|\n",
    "|Physical Environment|Accessibility to Green spaces|-|+|\n",
    "||Nitrogen Dioxide (NO2)|+|-|\n",
    "||PM10 Particles|+|-|\n",
    "||Sulphur Dioxide (SO2)|+|-|\n",
    "\n",
    "Thus, you will have to invert the ranking for some variables."
   ]
  },
  {
   "cell_type": "code",
   "execution_count": null,
   "metadata": {
    "lines_to_next_cell": 2
   },
   "outputs": [],
   "source": [
    "# Invert ranking\n",
    "data$gamb_rank <- rank(-data$gamb_rank) \n",
    "data$ffood_rank <- rank(-data$ffood_rank) \n",
    "data$pubs2_rank <- rank(-data$pubs2_rank) \n",
    "data$off2_rank <- rank(-data$off2_rank) \n",
    "data$tobac_rank <- rank(-data$tobac_rank)\n",
    "\n",
    "data$g900_rank <- rank(-data$g900_rank) \n"
   ]
  },
  {
   "cell_type": "markdown",
   "metadata": {
    "lines_to_next_cell": 0
   },
   "source": [
    "Now that you have standardise each indicator, you can then proceed to the step of normalisation. The Rankit rank-based normalisation will be used here because outperforms other rank-based methods ([Solomon, S., R., & Sawilowsky, S. S.,2009](http://digitalcommons.wayne.edu/jmasm/vol8/iss2/9)).\n",
    "\n",
    "Therefore, you will create the `norm_default` function which requires two parameters: a) the ranked variable as `x` and b) the data.frame as `y` "
   ]
  },
  {
   "cell_type": "code",
   "execution_count": null,
   "metadata": {},
   "outputs": [],
   "source": [
    "# FUNC: Rankit rank-based normalisation\n",
    "norm_default <- function(x,y){(x-0.5)/nrow(y)} "
   ]
  },
  {
   "cell_type": "markdown",
   "metadata": {
    "lines_to_next_cell": 0
   },
   "source": [
    "Next, you will use the `norm_default` function for normalising each of your indicators and transform them to a standard normal distribution using the `qnorm` function."
   ]
  },
  {
   "cell_type": "code",
   "execution_count": null,
   "metadata": {},
   "outputs": [],
   "source": [
    "# Rankit rank-based normalisation\n",
    "data$gpp_norm <- norm_default(data$gpp_rank, data)\n",
    "data$gpp_norm <- qnorm(data$gpp_norm, mean = 0, sd = 1)\n",
    "\n",
    "data$ed_norm <- norm_default(data$ed_rank, data)\n",
    "data$ed_norm <- qnorm(data$ed_norm, mean = 0, sd = 1)\n",
    "\n",
    "data$dent_norm <- norm_default(data$dent_rank, data)\n",
    "data$dent_norm <- qnorm(data$dent_norm, mean = 0, sd = 1)\n",
    "\n",
    "data$pharm_norm <- norm_default(data$pharm_rank, data)\n",
    "data$pharm_norm <- qnorm(data$pharm_norm, mean = 0, sd = 1)\n",
    "\n",
    "data$gamb_norm <- norm_default(data$gamb_rank, data)\n",
    "data$gamb_norm <- qnorm(data$gamb_norm, mean = 0, sd = 1)\n",
    "\n",
    "data$ffood_norm <- norm_default(data$ffood_rank, data)\n",
    "data$ffood_norm <- qnorm(data$ffood_norm, mean = 0, sd = 1)\n",
    "\n",
    "data$pubs2_norm <- norm_default(data$pubs2_rank, data)\n",
    "data$pubs2_norm <- qnorm(data$pubs2_norm, mean = 0, sd = 1)\n",
    "\n",
    "data$leis_norm <- norm_default(data$leis_rank, data)\n",
    "data$leis_norm <- qnorm(data$leis_norm, mean = 0, sd = 1)\n",
    "\n",
    "data$g900_norm <- norm_default(data$g900_rank, data)\n",
    "data$g900_norm <- qnorm(data$g900_norm, mean = 0, sd = 1)\n",
    "\n",
    "data$off2_norm <- norm_default(data$off2_rank, data)\n",
    "data$off2_norm <- qnorm(data$off2_norm, mean = 0, sd = 1)\n",
    "\n",
    "data$tobac_norm <- norm_default(data$tobac_rank, data)\n",
    "data$tobac_norm <- qnorm(data$tobac_norm, mean = 0, sd = 1)\n",
    "\n",
    "data$no2_norm <- norm_default(data$no2_rank, data)\n",
    "data$no2_norm <- qnorm(data$no2_norm, mean = 0, sd = 1)\n",
    "\n",
    "data$pm10_norm <- norm_default(data$pm10_rank, data)\n",
    "data$pm10_norm <- qnorm(data$pm10_norm, mean = 0, sd = 1)\n",
    "\n",
    "data$so2_norm <- norm_default(data$so2_rank, data)\n",
    "data$so2_norm <- qnorm(data$so2_norm, mean = 0, sd = 1)\n"
   ]
  },
  {
   "cell_type": "markdown",
   "metadata": {},
   "source": [
    "## Create domains and index\n",
    "\n",
    "Then, the indicators within each domain are combined using equal weights and forming the domain scores. We use equal weights because there is no clear justification in this case for different weightings."
   ]
  },
  {
   "cell_type": "code",
   "execution_count": null,
   "metadata": {},
   "outputs": [],
   "source": [
    "# Domain scores\n",
    "data$r_domain <- (0.20 * data$gamb_norm +\n",
    "                  0.20 * data$ffood_norm +\n",
    "                  0.20 * data$pubs2_norm +\n",
    "                  0.20 * data$off2_norm +\n",
    "                  0.20 * data$tobac_norm)\n",
    "\n",
    "data$h_domain <- (0.20 * data$gpp_norm +\n",
    "                  0.20 * data$ed_norm +\n",
    "                  0.20 * data$dent_norm +\n",
    "                  0.20 * data$pharm_norm +\n",
    "                  0.20 * data$leis_norm)\n",
    "\n",
    "data$e_domain <- (0.25 * data$g900_norm + \n",
    "                  0.25 * data$no2_norm + \n",
    "                  0.25 * data$pm10_norm + \n",
    "                  0.25 * data$so2_norm)"
   ]
  },
  {
   "cell_type": "markdown",
   "metadata": {
    "lines_to_next_cell": 0
   },
   "source": [
    "Once again, you will have to standardise the three domains using the `rank` function."
   ]
  },
  {
   "cell_type": "code",
   "execution_count": null,
   "metadata": {
    "lines_to_next_cell": 0
   },
   "outputs": [],
   "source": [
    "# Domain ranks\n",
    "\n",
    "data$r_rank <- rank(data$r_domain,ties.method= \"min\")\n",
    "\n",
    "data$h_rank <- rank(data$h_domain,ties.method= \"min\")\n",
    "\n",
    "data$e_rank <- rank(data$e_domain,ties.method= \"min\")\n"
   ]
  },
  {
   "cell_type": "markdown",
   "metadata": {},
   "source": [
    "To calculate the overall index, we follow an aspect of the methodology from the 2015 English Index of Multiple Deprivation [(Smith et al., 2015)](https://www.gov.uk/government/publications/english-indices-of-deprivation-2015-technical-report).You will rank each domain R and scale it to the range [0,1]. R=1/N is defined as the most ‘health promoting’ LSOA and R=N/N for the least promoting (N is the number of LSOAs in Great Britain). Exponential transformation of the ranked domain scores are then applied to LSOA values to reduce ‘cancellation effects’. So, for example, high levels of accessibility in one domain are not completely cancelled out by low levels of accessibility in a different domain. The exponential transformation applied also puts more emphasis on the LSOAs at the end of the health demoting side of the distribution and so facilitates identification of the neighbourhoods with the worst health promoting characteristics. The exponential transformed indicator score X is given by:\n",
    "\n",
    "$$X = -23 \\ln ⁡(1-R (1-\\exp^{(-100/23)}))$$\n",
    "\n",
    "where ‘ln’ denotes natural logarithm and ‘exp’ the exponential transformation.\n",
    "\n",
    "To implement this method, you will create the `exp_trans` function which requires two parameters: a) the ranked domain as `x` and b) the data.frame as `y`."
   ]
  },
  {
   "cell_type": "code",
   "execution_count": null,
   "metadata": {
    "lines_to_next_cell": 0
   },
   "outputs": [],
   "source": [
    "# FUNC: Exponential transformation\n",
    "exp_trans <- function(x,y){-23*log(1-(x/nrow(y))*(1-exp(-100/23)), base = exp(1))}\n"
   ]
  },
  {
   "cell_type": "markdown",
   "metadata": {
    "lines_to_next_cell": 0
   },
   "source": [
    "Next, you will use the `exp_trans` function for normalising each of your domains."
   ]
  },
  {
   "cell_type": "code",
   "execution_count": null,
   "metadata": {
    "lines_to_next_cell": 0
   },
   "outputs": [],
   "source": [
    "# Exponential transformation\n",
    "data$r_exp <- exp_trans(data$r_rank,data)\n",
    "data$h_exp <- exp_trans(data$h_rank,data)\n",
    "data$e_exp <- exp_trans(data$e_rank,data)"
   ]
  },
  {
   "cell_type": "markdown",
   "metadata": {
    "lines_to_next_cell": 0
   },
   "source": [
    "The final step is to bring together the tree domains and create an overall index. "
   ]
  },
  {
   "cell_type": "code",
   "execution_count": null,
   "metadata": {},
   "outputs": [],
   "source": [
    "# Composite index scores\n",
    "data$index_sc <- (0.333 * data$r_exp + \n",
    "                  0.334 * data$h_exp +\n",
    "                  0.333 * data$e_exp)"
   ]
  },
  {
   "cell_type": "markdown",
   "metadata": {},
   "source": [
    "## Mapping the new index\n",
    "\n",
    "To Map the new index you will use the `lsoa11.shp` shapefile, merge it with the `data` data.frame and then use the `tmap` package to create a quantile map of the new index and the three domains in Liverpool (`LAD code: E08000012`). "
   ]
  },
  {
   "cell_type": "code",
   "execution_count": null,
   "metadata": {
    "lines_to_next_cell": 0
   },
   "outputs": [],
   "source": [
    "# Merge LSOA boundaries to the new index\n",
    "library(sp)\n",
    "library(rgdal)\n",
    "lsoa <- readOGR('.', 'lsoa11')\n",
    "head(lsoa@data)\n",
    "\n",
    "sdf <- merge(lsoa, data[,c(1,50:53)], 'lsoa11')\n",
    "\n",
    "# Use tMap library for mapping the new index\n",
    "library(tmap)\n",
    "library(gridExtra)\n",
    "library(grid)\n",
    "\n",
    "# Map of the Retail services domain\n",
    "p1 <- qtm(sdf[sdf@data$lad ==\"E08000012\",],fill=\"r_exp\",fill.style=\"quantile\", fill.palette=\"Blues\", borders = NULL)\n",
    "\n",
    "# Map of the Health services domain\n",
    "p2 <- qtm(sdf[sdf@data$lad ==\"E08000012\",],fill=\"h_exp\",fill.style=\"quantile\", fill.palette=\"Greens\", borders = NULL)\n",
    "\n",
    "# Map of the Physical Environment domain\n",
    "p3 <- qtm(sdf[sdf@data$lad ==\"E08000012\",],fill=\"e_exp\",fill.style=\"quantile\", fill.palette=\"Oranges\", borders = NULL)\n",
    "\n",
    "# Map of the overall index\n",
    "p4 <- qtm(sdf[sdf@data$lad ==\"E08000012\",],fill=\"index_sc\",fill.style=\"quantile\", fill.palette=\"-RdYlBu\", borders = NULL)\n",
    "\n",
    "# Arrange the maps into a 2x2 grid\n",
    "tmap_arrange(p1, p2, p3, p4)"
   ]
  },
  {
   "cell_type": "markdown",
   "metadata": {},
   "source": [
    "\n",
    "\n",
    "\n"
   ]
  }
 ],
 "metadata": {
  "jupytext": {
   "cell_metadata_filter": "-all",
   "main_language": "R",
   "notebook_metadata_filter": "-all"
  },
  "kernelspec": {
   "display_name": "Python 3",
   "language": "python",
   "name": "python3"
  },
  "language_info": {
   "codemirror_mode": {
    "name": "ipython",
    "version": 3
   },
   "file_extension": ".py",
   "mimetype": "text/x-python",
   "name": "python",
   "nbconvert_exporter": "python",
   "pygments_lexer": "ipython3",
   "version": "3.7.9"
  }
 },
 "nbformat": 4,
 "nbformat_minor": 4
}
