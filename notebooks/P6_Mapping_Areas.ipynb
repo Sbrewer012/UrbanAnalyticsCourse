{
 "cells": [
  {
   "cell_type": "raw",
   "metadata": {},
   "source": [
    "---\n",
    "title: \"Data Viz 2: Mapping Areas and Context\"\n",
    "output: html_document\n",
    "---"
   ]
  },
  {
   "cell_type": "markdown",
   "metadata": {},
   "source": [
    "## Assignment Objectives\n",
    "By the end of this practical lab you will be able to:\n",
    "* Map the attributes of areas including contextual points and lines using base R\n",
    "* Creating layered maps using ggplot2\n",
    "* Creating layered maps using the tmap package\n",
    "\n",
    "## Making maps in R\n",
    "Like most analysis task within R there are a few different ways in we can make maps. In this practical lab we will introduce various ways in which we can map the attribute of areas and contextualize these to build a richer cartography. We will illustrate this through base R, and a series of packages including ggplot2 and tmap.\n",
    "\n",
    "## Choropleth mapping in base R\n",
    "\n",
    "Before we can create a map in R, we first need to import some spatial data. We will read in two shapefiles, the first containing polygons that will later be used to create a [choropleth map](https://en.wikipedia.org/wiki/Choropleth_map), and the second some street segments that will be used to provide context."
   ]
  },
  {
   "cell_type": "code",
   "execution_count": null,
   "metadata": {
    "message": false,
    "warning": false
   },
   "outputs": [],
   "source": [
    "#Load required package\n",
    "library(rgdal)\n",
    "#Read polygons (creates a SpatialPolygonsDataFrame object)\n",
    "LSOA <- readOGR(\"./data\", \"E06000042\",verbose = FALSE)\n",
    "#Read lines (creates a SpatialLinesDataFrame object)\n",
    "roads <- readOGR(\"./data\", \"Road\",verbose = FALSE)"
   ]
  },
  {
   "cell_type": "markdown",
   "metadata": {},
   "source": [
    "As was shown in the previous practical (see 2. Data Manipulation in R), we can use the plot() function which is built into base R to show the outlines of the polygons contained within the \"LSOA\" object."
   ]
  },
  {
   "cell_type": "code",
   "execution_count": null,
   "metadata": {},
   "outputs": [],
   "source": [
    "plot(LSOA)"
   ]
  },
  {
   "cell_type": "markdown",
   "metadata": {},
   "source": [
    "This map shows the Lower Layer Super Output Area boundaries for the city of Milton Keynes, UK. The attributes of the data frame are the overall and domain scores for the  [2015 Index of Multiple Deprivation](https://www.gov.uk/government/statistics/english-indices-of-deprivation-2015).\n",
    "\n",
    "We will shade in this map using the overall IMD score which is stored in the column \"imd_rank\". There are a total of 152 values."
   ]
  },
  {
   "cell_type": "code",
   "execution_count": null,
   "metadata": {},
   "outputs": [],
   "source": [
    "LSOA@data$imd_rank"
   ]
  },
  {
   "cell_type": "markdown",
   "metadata": {},
   "source": [
    "The first step is to find suitable breakpoints for the data contained in the imd_rank column. The continuous data needs to be assigned into categories so different colors can be applied on a choropleth map. There are numerous ways of doing this such as jenks, standard deviations or equal intervals. In this example we use a new function classIntervals() from the \"classInt\" package to find the ranges needed to divide the the imd_rank into five categories. In this example we use the style \"fisher\" to specify [jenks](https://en.wikipedia.org/wiki/Jenks_natural_breaks_optimization) as the break point."
   ]
  },
  {
   "cell_type": "code",
   "execution_count": null,
   "metadata": {
    "eval": false
   },
   "outputs": [],
   "source": [
    "install.packages(\"classInt\")"
   ]
  },
  {
   "cell_type": "code",
   "execution_count": null,
   "metadata": {},
   "outputs": [],
   "source": [
    "# Load package\n",
    "library(classInt)\n",
    "#Create breaks\n",
    "breaks <- classIntervals(LSOA@data$imd_rank, n = 5, style = \"fisher\")"
   ]
  },
  {
   "cell_type": "markdown",
   "metadata": {},
   "source": [
    "If we print the object created by the classIntervals() function, a summary is printed showing you what breaks have been assigned, and how many areas are within these ranges."
   ]
  },
  {
   "cell_type": "code",
   "execution_count": null,
   "metadata": {},
   "outputs": [],
   "source": [
    "breaks"
   ]
  },
  {
   "cell_type": "markdown",
   "metadata": {},
   "source": [
    "We need to choose some colors that we will assign to each of the break points in the data. We will now use another package called \"RColorBrewer\" which provides a series of color pallets that are suitable for mapping. You can have a look at the color pallets online: http://colorbrewer2.org. Each of these pallets are named; and you can see all the available pallets as follows."
   ]
  },
  {
   "cell_type": "code",
   "execution_count": null,
   "metadata": {
    "eval": false
   },
   "outputs": [],
   "source": [
    "install.packages(\"RColorBrewer\")"
   ]
  },
  {
   "cell_type": "code",
   "execution_count": null,
   "metadata": {},
   "outputs": [],
   "source": [
    "#Load package\n",
    "library(RColorBrewer)\n",
    "#Display all pallets\n",
    "display.brewer.all()"
   ]
  },
  {
   "cell_type": "markdown",
   "metadata": {},
   "source": [
    "We will then choose six colors from the pallet \"YlOrRd\", and print them to the terminal. You will see that the colors are stored as [hex values](http://www.color-hex.com/)."
   ]
  },
  {
   "cell_type": "code",
   "execution_count": null,
   "metadata": {},
   "outputs": [],
   "source": [
    "my_colours <- brewer.pal(6, \"YlOrRd\")\n",
    "my_colours"
   ]
  },
  {
   "cell_type": "markdown",
   "metadata": {},
   "source": [
    "We can then use the function findColours() to select the appropriate color for each of the numbers we intend to map, depending on where these fit within the break points we calculated."
   ]
  },
  {
   "cell_type": "code",
   "execution_count": null,
   "metadata": {},
   "outputs": [],
   "source": [
    "colours_to_map <- findColours(breaks, my_colours)"
   ]
  },
  {
   "cell_type": "markdown",
   "metadata": {},
   "source": [
    "We can then create a basic map using this list of colors and the `plot()` function again."
   ]
  },
  {
   "cell_type": "code",
   "execution_count": null,
   "metadata": {},
   "outputs": [],
   "source": [
    "plot(LSOA,col=colours_to_map)"
   ]
  },
  {
   "cell_type": "markdown",
   "metadata": {},
   "source": [
    "We might also want to create a map without the borders, and this can be controlled with an additional parameter which is set to \"NA\""
   ]
  },
  {
   "cell_type": "code",
   "execution_count": null,
   "metadata": {},
   "outputs": [],
   "source": [
    "plot(LSOA,col=colours_to_map,border = NA)"
   ]
  },
  {
   "cell_type": "markdown",
   "metadata": {},
   "source": [
    "We can also add additional layers onto the map using a further parameter (\"add\") which is set to \"TRUE\". Without the \"add=TRUE\", every time plot() is called, the previous plot is replaced. Two further parameters are used, \"col\" to specify the line color, and \"lwd\" the line width."
   ]
  },
  {
   "cell_type": "code",
   "execution_count": null,
   "metadata": {},
   "outputs": [],
   "source": [
    "plot(LSOA,col=colours_to_map,border = NA)\n",
    "plot(roads,add=TRUE, col=\"#6B6B6B\",lwd=0.3)"
   ]
  },
  {
   "cell_type": "markdown",
   "metadata": {},
   "source": [
    "Another feature that is very common to see on a map is a legend which tells you what values the colors used on the map correspond to. This combines the legend() function with a further function leglabs() (from the maptools package) to create a legend:"
   ]
  },
  {
   "cell_type": "code",
   "execution_count": null,
   "metadata": {
    "eval": false,
    "lines_to_next_cell": 0
   },
   "outputs": [],
   "source": [
    "install.packages(\"maptools\")"
   ]
  },
  {
   "cell_type": "code",
   "execution_count": null,
   "metadata": {
    "lines_to_next_cell": 2,
    "message": false,
    "warning": false
   },
   "outputs": [],
   "source": [
    "library(maptools)"
   ]
  },
  {
   "cell_type": "code",
   "execution_count": null,
   "metadata": {
    "lines_to_next_cell": 2
   },
   "outputs": [],
   "source": [
    "# Plot choropleth\n",
    "plot(LSOA,col=colours_to_map,border = NA)\n",
    "# Plot roads\n",
    "plot(roads,add=TRUE, col=\"#6B6B6B\",lwd=0.3)\n",
    "# Add legend\n",
    "legend(\"bottomleft\" ,legend = leglabs(breaks$brks, between = \" to \"), fill = my_colours, bty = \"n\",cex=0.6)"
   ]
  },
  {
   "cell_type": "markdown",
   "metadata": {},
   "source": [
    "We will now add some points to the map by creating a new Spatial Points Data Frame as we demonstrated in the previous practical (see 2. Data Manipulation in R):"
   ]
  },
  {
   "cell_type": "code",
   "execution_count": null,
   "metadata": {},
   "outputs": [],
   "source": [
    "#Read in the location of schools\n",
    "schools <- read.csv(\"./data/Milton_Keynes_SS_13.csv\")\n",
    "schools"
   ]
  },
  {
   "cell_type": "markdown",
   "metadata": {},
   "source": [
    "The new object \"schools\" contains 13 secondary schools within Milton Keynes, including their Easting and Northing, which are the coordinates of the schools in the [British National Grid](http://www.ordnancesurvey.co.uk/support/the-national-grid.html) projection. Before you can make a spatial data frame, you need to check that there are no records with blank spatial references (i.e. Easting and Northing) - in this example, we use the `subset()` function.\n",
    "\n",
    "The SpatialPointsDataFrame() function is then specified with the coordinates of the school \"coords\", which are specified as matrix of values - cbind() is used to \"column bind\" the Easting and Northing lists together, i.e. so each row is a location. The \"data\" parameter specifies any attribute data - in this case we just use the original data frame. Finally, the \"proj4string\" is specified using the CRS() function. These are standard lookups to known as [coordinate systems](http://spatialreference.org/).\n"
   ]
  },
  {
   "cell_type": "code",
   "execution_count": null,
   "metadata": {},
   "outputs": [],
   "source": [
    "# Remove those schools without Easting or Northing\n",
    "schools <- subset(schools, Easting != \"\" | Northing != \"\")\n",
    "\n",
    "# Create the SpatialPointsDataFrame\n",
    "schools_SDF <- SpatialPointsDataFrame(coords = cbind(schools$Easting, schools$Northing), data = schools, proj4string = CRS(\"+init=epsg:27700\"))\n"
   ]
  },
  {
   "cell_type": "markdown",
   "metadata": {},
   "source": [
    "We can now plot these locations on our map."
   ]
  },
  {
   "cell_type": "code",
   "execution_count": null,
   "metadata": {},
   "outputs": [],
   "source": [
    "plot(LSOA,col=colours_to_map,border = NA)\n",
    "plot(roads,add=TRUE, col=\"#6B6B6B\",lwd=0.3)\n",
    "plot(schools_SDF, pch = 19, cex = 0.4, col = \"#442200\",add=TRUE)"
   ]
  },
  {
   "cell_type": "markdown",
   "metadata": {},
   "source": [
    "### Plotting a subset of the map\n",
    "\n",
    "Much in the same way that we can subset a data frame, we can also create subsets of the plot. For example, suppose we just wanted to view a map for a a specific Ward in Milton Keynes.\n",
    "\n",
    "First we will read in the Ward boundaries."
   ]
  },
  {
   "cell_type": "code",
   "execution_count": null,
   "metadata": {},
   "outputs": [],
   "source": [
    "WARD <- readOGR(\"./data/\", \"england_cmwd_2011Polygon\")"
   ]
  },
  {
   "cell_type": "markdown",
   "metadata": {},
   "source": [
    "There are 22 wards, which are named as follows."
   ]
  },
  {
   "cell_type": "code",
   "execution_count": null,
   "metadata": {},
   "outputs": [],
   "source": [
    "WARD$name"
   ]
  },
  {
   "cell_type": "markdown",
   "metadata": {},
   "source": [
    "We can plot and label these as follows. The text() function applies text to the map, specifying three lists including the Easting, Northing and the text labels. The Easting and Northing are derived using the coordinates() function, which for spatial polygons takes the centre of the polygon extent."
   ]
  },
  {
   "cell_type": "code",
   "execution_count": null,
   "metadata": {},
   "outputs": [],
   "source": [
    "plot(WARD)\n",
    "text(coordinates(WARD)[, 1], coordinates(WARD)[, 2], labels = WARD@data$name, cex = 0.4)"
   ]
  },
  {
   "cell_type": "markdown",
   "metadata": {},
   "source": [
    "In the following example we can use the attributes of the spatial data frame to plot just a small area of the total spatial polygons data frame object. For example, to plot just Loughton Park we can use the square brackets to just select a single row that matches the name \"Loughton Park\""
   ]
  },
  {
   "cell_type": "code",
   "execution_count": null,
   "metadata": {},
   "outputs": [],
   "source": [
    "plot(WARD[WARD@data$name == \"Loughton Park\",])"
   ]
  },
  {
   "cell_type": "markdown",
   "metadata": {},
   "source": [
    "This is a useful technique to create a more limited extent. We can use this as follows with some of the previous plots to create a \"zoomed in map\". Note how we are building the map up as a series of layers."
   ]
  },
  {
   "cell_type": "code",
   "execution_count": null,
   "metadata": {},
   "outputs": [],
   "source": [
    "plot(WARD[WARD@data$name == \"Loughton Park\",],border=NA) #creates the extent, note that border = NA to make this polygon invisible\n",
    "plot(LSOA,col=colours_to_map,border = NA,add=TRUE) #plot the choropleth for the IMD\n",
    "plot(roads,add=TRUE, col=\"#6B6B6B\",lwd=0.3) #plot the roads\n",
    "plot(schools_SDF, pch = 19, cex = 0.4, col = \"#442200\",add=TRUE) #plot the schools\n",
    "plot(WARD,border=\"#6B6B6B\",add=TRUE)#Add the ward boundaries, however this time they have a colour assigned\n",
    "text(coordinates(schools_SDF)[, 1], coordinates(schools_SDF)[, 2], labels = schools_SDF@data$SCHNAME, cex = 0.8,col=\"#442200\",pos=2)"
   ]
  },
  {
   "cell_type": "markdown",
   "metadata": {},
   "source": [
    "## Choropleth mapping in ggplot2\n",
    "\n",
    "In the previous practical we introduce ggplot2 (see 5. Data Viz 1: Charts and Graphs), which can also be used to plot maps. The first stage is the extract the polygon boundaries from the spatial polygons object. We do this using the fortify() function; the \"region\" parameter is the attribute used to split the polygon - in this case the unique ID for each LSOA."
   ]
  },
  {
   "cell_type": "code",
   "execution_count": null,
   "metadata": {},
   "outputs": [],
   "source": [
    "# Load the ggplot2 package\n",
    "library(ggplot2)\n",
    "# Fortify\n",
    "LSOA_FF <- fortify(LSOA, region=\"LSOA11CD\")"
   ]
  },
  {
   "cell_type": "markdown",
   "metadata": {},
   "source": [
    "We can now have a look at the new data frame object this created."
   ]
  },
  {
   "cell_type": "code",
   "execution_count": null,
   "metadata": {},
   "outputs": [],
   "source": [
    "head(LSOA_FF)"
   ]
  },
  {
   "cell_type": "markdown",
   "metadata": {},
   "source": [
    "You will see that the polygons have been split up into \"groups\" which refer to each of the LSOA codes - i.e. what you specified in the \"region\" attribute. The long and lat are unfortunately named as they are in fact Easting and Northings of the co-ordinates making up the polygon. However, by using the fortify() function we have lost the attribute information, which we can add back onto the object using the merge() function."
   ]
  },
  {
   "cell_type": "code",
   "execution_count": null,
   "metadata": {},
   "outputs": [],
   "source": [
    "LSOA_FF <- merge(LSOA_FF, LSOA@data, by.x = \"id\", by.y = \"LSOA11CD\")"
   ]
  },
  {
   "cell_type": "markdown",
   "metadata": {},
   "source": [
    "We can now use these attributes to create a choropleth map. First we setup the map using ggplot(). We can then tell ggplot how the map should look; firstly stating that the objects are polygons (\"+ geom_polygon()\"), second that the coordinate system is scaled equally, thus, one coordinate unit north is the same as one unit east for example (\"+ coord_equal()\"), and then we add some adjustment to the x and y labels, and alter the legend title (\"+labs\")."
   ]
  },
  {
   "cell_type": "code",
   "execution_count": null,
   "metadata": {},
   "outputs": [],
   "source": [
    "Map <- ggplot(LSOA_FF, aes(long, lat, group = group, fill = imd_rank)) +  geom_polygon() + coord_equal() + labs(x = \"Easting (m)\", y = \"Northing (m)\", fill = \"IMD\")\n",
    "Map"
   ]
  },
  {
   "cell_type": "markdown",
   "metadata": {},
   "source": [
    "We can also add layers to the plot as we did in the previous example. First we will create a fortified version of the roads object."
   ]
  },
  {
   "cell_type": "code",
   "execution_count": null,
   "metadata": {},
   "outputs": [],
   "source": [
    "roads_FF <- fortify(roads)"
   ]
  },
  {
   "cell_type": "markdown",
   "metadata": {},
   "source": [
    "We can then add this to the \"Map\" object we just created, however we will build this up as layers."
   ]
  },
  {
   "cell_type": "code",
   "execution_count": null,
   "metadata": {},
   "outputs": [],
   "source": [
    "# Create choropleth\n",
    "plot1<- c(geom_polygon(data=LSOA_FF, aes(long, lat, group = group, fill = imd_rank)))\n",
    "# Create road plot\n",
    "plot2<-c(geom_path(data=roads_FF,aes(x=long, y=lat, group=group),size=0.1))\n",
    "# Combine the plots\n",
    "ggplot()+plot1+plot2+coord_equal()"
   ]
  },
  {
   "cell_type": "markdown",
   "metadata": {},
   "source": [
    "We can add a further layer for the locations of the schools, and also adjust the color ramp."
   ]
  },
  {
   "cell_type": "code",
   "execution_count": null,
   "metadata": {},
   "outputs": [],
   "source": [
    "# Create school plot\n",
    "plot3 <- c(geom_point(data=schools, aes(Easting, Northing,colour='school')))\n",
    "# Create combined plot\n",
    "ggplot()+plot1+plot2+plot3 + coord_equal() + scale_fill_gradient( low=\"#473B31\", high=\"#FFFFFF\")"
   ]
  },
  {
   "cell_type": "markdown",
   "metadata": {},
   "source": [
    "It is also possible to control the other elements of the plot using \"theme_bw()\" which removes many of the visible elements."
   ]
  },
  {
   "cell_type": "code",
   "execution_count": null,
   "metadata": {
    "lines_to_next_cell": 0
   },
   "outputs": [],
   "source": [
    "#Create a clean plot\n",
    "ggplot()+plot1+plot2+plot3 +coord_equal() + scale_fill_gradient( low=\"#473B31\", high=\"#FFFFFF\")  + theme_bw()"
   ]
  },
  {
   "cell_type": "markdown",
   "metadata": {},
   "source": [
    "<a id=\"fullplot\"></a>\n",
    "However, the plot is still a little cluttered and we can turn off many of the elements using \"theme()\""
   ]
  },
  {
   "cell_type": "code",
   "execution_count": null,
   "metadata": {},
   "outputs": [],
   "source": [
    "ggplot()+plot1+plot2+plot3 +coord_equal() + scale_fill_gradient( low=\"#473B31\", high=\"#FFFFFF\")  + theme_bw() +\n",
    "  theme(axis.line = element_blank(),\n",
    "    axis.text = element_blank(),\n",
    "    axis.title=element_blank(),\n",
    "    axis.ticks = element_blank(),\n",
    "    legend.key = element_blank(),\n",
    "    panel.grid.major = element_blank(),\n",
    "    panel.grid.minor = element_blank(),\n",
    "    panel.border = element_blank(),\n",
    "    panel.background = element_blank()) + labs(fill = \"IMD Rank\",colour=\"\") "
   ]
  },
  {
   "cell_type": "markdown",
   "metadata": {},
   "source": [
    "## Making basic maps using tmap\n",
    "A recent addition to R for creating maps is the [tmap package](https://cran.r-project.org/web/packages/tmap/vignettes/tmap-nutshell.html). This is quite flexible and can be used to create various types of maps and geographic representations with relative simplicity. For someone starting with R, this is probably the simplest entry point. First we will install and load the package:"
   ]
  },
  {
   "cell_type": "code",
   "execution_count": null,
   "metadata": {
    "eval": false,
    "lines_to_next_cell": 0
   },
   "outputs": [],
   "source": [
    "install.packages(\"tmap\")"
   ]
  },
  {
   "cell_type": "code",
   "execution_count": null,
   "metadata": {},
   "outputs": [],
   "source": [
    "library(tmap)"
   ]
  },
  {
   "cell_type": "markdown",
   "metadata": {},
   "source": [
    "We will first load a shapefile for the Leeds, UK. "
   ]
  },
  {
   "cell_type": "code",
   "execution_count": null,
   "metadata": {},
   "outputs": [],
   "source": [
    "#Read Shapefile\n",
    "Leeds <- readOGR(\"./data\",\"E08000035\",verbose = FALSE)\n",
    "\n",
    "# Have a look at the attributes\n",
    "head(Leeds@data)"
   ]
  },
  {
   "cell_type": "markdown",
   "metadata": {},
   "source": [
    "We will store the map in the \"M\" object - first we setup the map and projection - note that we use the CRS 27700 which is the code for the British National Grid:"
   ]
  },
  {
   "cell_type": "code",
   "execution_count": null,
   "metadata": {},
   "outputs": [],
   "source": [
    "m <- tm_shape(Leeds, projection=27700)"
   ]
  },
  {
   "cell_type": "markdown",
   "metadata": {},
   "source": [
    "Next we can add a style to the map - this includes the variable to use for coloring (\"col=\"), in this case, the rank of the area by the [Index of Multiple Deprivation](https://www.gov.uk/government/statistics/english-indices-of-deprivation-2015). The style is set as \"equal\" which relates to how the IMD ranks are broken up into color bins; the border color (\"border.col=\") and transparency (\" border.alpha =\"); title and also pallet for the choropleth (\"palette = \") which uses the colorbrewer pallets. Finally, the \"showNA\" option can be set as true or false and relates to whether missing values are shown in the legend."
   ]
  },
  {
   "cell_type": "code",
   "execution_count": null,
   "metadata": {},
   "outputs": [],
   "source": [
    "m <- tm_shape(Leeds, projection=27700) +\n",
    "\ttm_polygons(col=\"imd_rank\", style=\"equal\",n=5,border.col = \"grey50\",  border.alpha = .5, title=\"IMD Quintile\", showNA=FALSE,palette=\"Blues\")\n",
    "#Print plot\n",
    "m"
   ]
  },
  {
   "cell_type": "markdown",
   "metadata": {},
   "source": [
    "We can then add some final options with tm_layout() to remove the frame around the plot:"
   ]
  },
  {
   "cell_type": "code",
   "execution_count": null,
   "metadata": {},
   "outputs": [],
   "source": [
    "m <- tm_shape(Leeds, projection=27700) +\n",
    "\ttm_polygons(col=\"imd_rank\", style=\"equal\",n=5,border.col = \"grey50\",  border.alpha = .5, title=\"IMD Quintile\", showNA=FALSE,palette=\"Blues\") +\n",
    "  tm_layout(legend.position = c(\"left\", \"bottom\"), frame = FALSE)\n",
    "#Print plot\n",
    "m"
   ]
  },
  {
   "cell_type": "markdown",
   "metadata": {},
   "source": [
    "As with the ggplot2 and base R maps, it is also possible to build up layers and use lines or points to add context to the maps. Here we replicate the map shown [earlier](#fullplot):"
   ]
  },
  {
   "cell_type": "code",
   "execution_count": null,
   "metadata": {},
   "outputs": [],
   "source": [
    "# Note, we don't store the results in m this time so the result returned is a plot.\n",
    "# Add areas and style\n",
    "tm_shape(LSOA, projection=27700) +\n",
    "\ttm_polygons(col=\"imd_rank\", style=\"cont\",n=5,border.col = \"grey50\",  border.alpha = .5, showNA=FALSE,palette=\"Greys\",title=\"IMD Rank\") +\n",
    "# Add roads\n",
    "tm_shape(roads) +\n",
    "    tm_lines(lwd=0.1, col=\"#E8E3E2\", scale=5)  +\n",
    "    tm_add_legend(type=\"line\", col=\"#E8E3E2\", title=\"Roads\") +\n",
    "#Add schools\n",
    "tm_shape(schools_SDF) +\n",
    "    tm_symbols(size=0.5,shape=20, col=\"#f7756d\") +\n",
    "    tm_add_legend(type=\"symbol\", shape=20, col=\"#f7756d\", title=\"Schools\") +\n",
    "#Remove the frame and set legend position\n",
    "  \ttm_layout(legend.position = c(\"right\", \"bottom\"), frame = FALSE, legend.outside=TRUE)"
   ]
  },
  {
   "cell_type": "markdown",
   "metadata": {},
   "source": [
    "### Alternative types of map\n",
    "\n",
    "So far we have only considered creating contextual choropleth maps, however, tmap is also useful to create a number of alternative map types including proportional symbol maps and cartograms. \n",
    "\n",
    "First we will import a file of ward centroids which has a \"Crimes\" attribute that records the number of recorded crimes within the ward during August 2016."
   ]
  },
  {
   "cell_type": "code",
   "execution_count": null,
   "metadata": {},
   "outputs": [],
   "source": [
    "# Read in crime data\n",
    "Crimes_SP <- readOGR(\"./data/\",\"crimes\",verbose = FALSE)"
   ]
  },
  {
   "cell_type": "markdown",
   "metadata": {},
   "source": [
    "The following code first creates the choropleth with tm_polygons(), and then appends the bubbles using tm_bubbles() based on the \"Crimes\" attribute."
   ]
  },
  {
   "cell_type": "code",
   "execution_count": null,
   "metadata": {},
   "outputs": [],
   "source": [
    "# Plot\n",
    "m<- tm_shape(Leeds, projection=27700) +\n",
    "\ttm_polygons(col=\"imd_rank\", style=\"equal\",n=5,border.col = \"grey50\",  border.alpha = .5, title=\"IMD Quintile\", showNA=FALSE,palette=\"Greys\") +\n",
    "  \n",
    "  # Add scaled bubbles\n",
    "  tm_shape(Crimes_SP) +\n",
    "    tm_bubbles(\"Crimes\", title.size = \"Crimes\",col=\"#0EBFE9\") +\n",
    "\n",
    "  # Add legend and remove borders\n",
    "  \ttm_layout(legend.position = c(\"left\", \"bottom\"), \n",
    "\t\t\t  frame = FALSE,legend.text.size = 0.65)\n",
    "\n",
    "# Plot the map\n",
    "m"
   ]
  },
  {
   "cell_type": "markdown",
   "metadata": {},
   "source": [
    "A further type of map that tmap can create is a cartogram; which is actually imported from the cartogram package. This type of representation scales each of the zones by an absolute measure such as population. Thus, zones with low counts become smaller and high counts larger. There are a lot of algorithms to make [cartograms](https://en.wikipedia.org/wiki/Cartogram), however, the implementation within tmap is the commonly used continuous area cartogram.\n",
    "\n",
    "We will therefore import some population data and append these to the spatial polygons data frame created earlier called \"Leeds\":"
   ]
  },
  {
   "cell_type": "code",
   "execution_count": null,
   "metadata": {},
   "outputs": [],
   "source": [
    "\n",
    "#Read population data\n",
    "Leeds_pop <- read.csv(\"./data/Leeds_Census_2011.csv\")\n",
    "\n",
    "#Join to spatial polygon dataframe\n",
    "Leeds <- merge(Leeds, Leeds_pop, by.x = \"LSOA11CD\", by.y = \"Code\")\n"
   ]
  },
  {
   "cell_type": "markdown",
   "metadata": {},
   "source": [
    "The following code creates the cartogram, however, takes a long time to run. If using this function, then this time increases the more complex and large the set of polygons. An alternative but free non R solution is [ScapeToad](http://scapetoad.choros.ch/)."
   ]
  },
  {
   "cell_type": "code",
   "execution_count": null,
   "metadata": {
    "eval": false
   },
   "outputs": [],
   "source": [
    "Leeds_Cartogram <- cartogram(Leeds, \"Usual_Residents_2011\", itermax = 15, maxSizeError = 1.0001,prepare = \"adjust\", threshold = 0.05) # Takes a long time to process"
   ]
  },
  {
   "cell_type": "code",
   "execution_count": null,
   "metadata": {
    "message": false,
    "tags": [
     "remove_input"
    ],
    "warning": false
   },
   "outputs": [],
   "source": [
    "Leeds_Cartogram <- readOGR(\"./data/\",\"Leeds_Cartogram\",verbose = FALSE)"
   ]
  },
  {
   "cell_type": "markdown",
   "metadata": {},
   "source": [
    "We can now create a map as we did a basic choropleth, however, you will see that the zones are distorted:"
   ]
  },
  {
   "cell_type": "code",
   "execution_count": null,
   "metadata": {},
   "outputs": [],
   "source": [
    "#Map\n",
    "m <- tm_shape(Leeds_Cartogram) +\n",
    "\ttm_polygons(col=\"imd_rnk\", style=\"equal\",n=5,border.col = \"grey50\",  border.alpha = .5, title=\"IMD Quintile\", showNA=FALSE,palette=\"Blues\") +\n",
    "    \ttm_layout(legend.position = c(\"left\", \"bottom\"), \n",
    "\t\t\t  frame = FALSE)\n",
    "\n",
    "# Plot map\n",
    "m"
   ]
  },
  {
   "cell_type": "markdown",
   "metadata": {},
   "source": [
    "# Further resources / training\n",
    " \n",
    "* [An Introduction to R for Spatial Analysis and Mapping](https://uk.sagepub.com/en-gb/eur/an-introduction-to-r-for-spatial-analysis-and-mapping/book241031) - a great primer on mapping in R\n",
    "* [ggplot2 book](http://ggplot2.org/book/) - code and sample chapters for the [book](http://www.springer.com/gb/book/9780387981413)\n",
    "* [Scape Toad](http://scapetoad.choros.ch/) - A great tool for creating cartograms"
   ]
  }
 ],
 "metadata": {
  "jupytext": {
   "cell_metadata_filter": "message,tags,eval,warning,-all",
   "main_language": "R",
   "notebook_metadata_filter": "-all"
  },
  "kernelspec": {
   "display_name": "Python 3",
   "language": "python",
   "name": "python3"
  },
  "language_info": {
   "codemirror_mode": {
    "name": "ipython",
    "version": 3
   },
   "file_extension": ".py",
   "mimetype": "text/x-python",
   "name": "python",
   "nbconvert_exporter": "python",
   "pygments_lexer": "ipython3",
   "version": "3.7.9"
  }
 },
 "nbformat": 4,
 "nbformat_minor": 4
}
