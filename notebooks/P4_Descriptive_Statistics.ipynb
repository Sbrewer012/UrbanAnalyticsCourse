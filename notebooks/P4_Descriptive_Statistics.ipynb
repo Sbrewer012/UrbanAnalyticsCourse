{
 "cells": [
  {
   "cell_type": "raw",
   "metadata": {},
   "source": [
    "---\n",
    "title: \"Descriptive statistics\"\n",
    "output: html_document\n",
    "---"
   ]
  },
  {
   "cell_type": "markdown",
   "metadata": {},
   "source": [
    "## Assignment Objectives\n",
    "By the end of this practical lab you will be able to:\n",
    "\n",
    "* Create summary descriptive statistics for numeric attributes\n",
    "* Generate frequency tables\n",
    "* Use aggregation functions\n",
    "* Write a basic user function\n",
    "* Convert between co-ordinate reference systems\n",
    "* Create contextual statistics for geographic features using buffers\n",
    "\n",
    "## Basic numeric summary statistics\n",
    "\n",
    "In the first part of this practical we will import some [Airbnb](http://insideairbnb.com/get-the-data.html) data for Amsterdam that was collected during July, 2016."
   ]
  },
  {
   "cell_type": "code",
   "execution_count": null,
   "metadata": {},
   "outputs": [],
   "source": [
    "# Read in CSV\n",
    "amsterdam <- read.csv(\"./data/listings.csv\")"
   ]
  },
  {
   "cell_type": "markdown",
   "metadata": {},
   "source": [
    "This contains a wide array of variables:"
   ]
  },
  {
   "cell_type": "code",
   "execution_count": null,
   "metadata": {},
   "outputs": [],
   "source": [
    "colnames(amsterdam)"
   ]
  },
  {
   "cell_type": "markdown",
   "metadata": {},
   "source": [
    "However, for this practical we will subset these data to a limited set of variables:"
   ]
  },
  {
   "cell_type": "code",
   "execution_count": null,
   "metadata": {},
   "outputs": [],
   "source": [
    "# Subset data\n",
    "amsterdam <- subset(amsterdam, select = c(\"id\",\"neighbourhood_cleansed\",\"latitude\",\"longitude\",\"property_type\",\"room_type\",\"bedrooms\",\"price\",\"number_of_reviews\"))\n",
    "\n",
    "# Clean the price data to remove $ and , then convert to numeric (If you are doing this outside of the US / UK and have a non English locale set, try running Sys.setlocale(\"LC_ALL\",\"English\") before using gsub)\n",
    "amsterdam$price <- gsub(\"$\",\"\",amsterdam$price,fixed = TRUE)\n",
    "amsterdam$price <- gsub(\",\",\"\",amsterdam$price,fixed = TRUE)\n",
    "amsterdam$price <- as.numeric(as.character(amsterdam$price))\n",
    "\n",
    "#Remove any records that are not complete\n",
    "amsterdam <- amsterdam[complete.cases(amsterdam),]\n",
    "\n",
    "# Show the top six rows\n",
    "head(amsterdam)"
   ]
  },
  {
   "cell_type": "markdown",
   "metadata": {},
   "source": [
    "The simplest way to create a set of descriptive statistics is to use the summary() function which returns the minimum, maximum, first and third quartile, and the mean and median for each column. For non numeric columns (e.g. neighbourhood_cleansed),the frequencies of the top seven most frequent attributes are shown."
   ]
  },
  {
   "cell_type": "code",
   "execution_count": null,
   "metadata": {},
   "outputs": [],
   "source": [
    "#Summary\n",
    "summary(amsterdam)"
   ]
  },
  {
   "cell_type": "markdown",
   "metadata": {},
   "source": [
    "There are numerous descriptive statistics available individually within R - here we illustrate these by exploring the \"price\" attribute:"
   ]
  },
  {
   "cell_type": "code",
   "execution_count": null,
   "metadata": {},
   "outputs": [],
   "source": [
    "#Mean\n",
    "mean(amsterdam$price)\n",
    "\n",
    "# Median\n",
    "median(amsterdam$price)\n",
    "\n",
    "# Standard deviation\n",
    "sd(amsterdam$price)\n",
    "\n",
    "# Min, Max, Range\n",
    "min(amsterdam$price)\n",
    "max(amsterdam$price)\n",
    "range(amsterdam$price)\n",
    "\n",
    "# Quantiles\n",
    "quantile(amsterdam$price)\n"
   ]
  },
  {
   "cell_type": "markdown",
   "metadata": {},
   "source": [
    "## Frequency tables\n",
    "\n",
    "Another common basic analysis task is to create a frequency table for a categorical variable - for example, the number of listings per neighborhood. This can be achieved using the table() function which prints a list of the unique attributes and the frequency of these observations."
   ]
  },
  {
   "cell_type": "code",
   "execution_count": null,
   "metadata": {},
   "outputs": [],
   "source": [
    "table(amsterdam$neighbourhood_cleansed)"
   ]
  },
  {
   "cell_type": "markdown",
   "metadata": {},
   "source": [
    "It is also possible to create cross-tabulations; showing the frequency of two attributes - here we look at neighborhood and bedrooms:"
   ]
  },
  {
   "cell_type": "code",
   "execution_count": null,
   "metadata": {},
   "outputs": [],
   "source": [
    "# Cross-Tabulation\n",
    "table(amsterdam$neighbourhood_cleansed,amsterdam$bedrooms)"
   ]
  },
  {
   "cell_type": "markdown",
   "metadata": {},
   "source": [
    "We might want to store this as a new object which we can do in the usual way - however, if you look at the table structure (e.g. View(neigh_bedrooms) you will see that it is stored in [narrow format](https://en.wikipedia.org/wiki/Wide_and_narrow_data) rather than how the table is printed:"
   ]
  },
  {
   "cell_type": "code",
   "execution_count": null,
   "metadata": {},
   "outputs": [],
   "source": [
    "# Cross-Tabulation\n",
    "neigh_bedrooms <- table(amsterdam$neighbourhood_cleansed,amsterdam$bedrooms)"
   ]
  },
  {
   "cell_type": "markdown",
   "metadata": {},
   "source": [
    "From a cross tabulation table object you can create row and column frequencies using the margin.table() function, and convert the counts into percentages of row or column totals with prop.table() - round() is also used to limit the number of decimal places displayed:"
   ]
  },
  {
   "cell_type": "code",
   "execution_count": null,
   "metadata": {},
   "outputs": [],
   "source": [
    "# Row frequencies\n",
    "margin.table(neigh_bedrooms,1)\n",
    "# Column frequencies\n",
    "margin.table(neigh_bedrooms,2)\n",
    "# Row percentages\n",
    "round(prop.table(neigh_bedrooms,1),2)\n",
    "# Column percentages\n",
    "round(prop.table(neigh_bedrooms,2),2)"
   ]
  },
  {
   "cell_type": "markdown",
   "metadata": {},
   "source": [
    "If you want to convert a \"table\" back into an object then this is fairly simple:"
   ]
  },
  {
   "cell_type": "code",
   "execution_count": null,
   "metadata": {},
   "outputs": [],
   "source": [
    "# Convert table to data frame\n",
    "neigh_bedrooms_DF <- as.data.frame(neigh_bedrooms)\n",
    "\n",
    "# View top 6 rows\n",
    "head(neigh_bedrooms_DF)"
   ]
  },
  {
   "cell_type": "markdown",
   "metadata": {},
   "source": [
    "However, you will note that the data frame has been created in [narrow rather than wide format](https://en.wikipedia.org/wiki/Wide_and_narrow_data) (as displayed). To create a wide format you use a different function:"
   ]
  },
  {
   "cell_type": "code",
   "execution_count": null,
   "metadata": {},
   "outputs": [],
   "source": [
    "# Convert table to data frame\n",
    "neigh_bedrooms_DF <- as.data.frame.matrix(neigh_bedrooms)\n",
    "\n",
    "# View top 6 rows\n",
    "head(neigh_bedrooms_DF)"
   ]
  },
  {
   "cell_type": "markdown",
   "metadata": {},
   "source": [
    "## Create aggregations and summary statistics\n",
    "\n",
    "We have shown how we can use various descriptive summary functions for single columns, however, it is also possible to combine these with further functions which make these calculations within aggregations. This is especially useful for geographic application where you can create summaries by a defined area. In the following example we will use the function aggregate() to find out what the mean price is by neighborhood:"
   ]
  },
  {
   "cell_type": "code",
   "execution_count": null,
   "metadata": {},
   "outputs": [],
   "source": [
    "aggregate(x=amsterdam[,\"price\"],by=list(amsterdam[,\"neighbourhood_cleansed\"]),FUN=mean)"
   ]
  },
  {
   "cell_type": "markdown",
   "metadata": {},
   "source": [
    "In this example you will see that the \"by=\" option only accepts a \"list\" which we can easily create using the function list(). We can add additional attributes to the list to get further sub-aggregations - however, we won't display this here as it creates quite a large table."
   ]
  },
  {
   "cell_type": "code",
   "execution_count": null,
   "metadata": {
    "eval": false
   },
   "outputs": [],
   "source": [
    "aggregate(x=amsterdam[,\"price\"],by=list(amsterdam[,\"neighbourhood_cleansed\"],amsterdam[,\"property_type\"]),FUN=mean)"
   ]
  },
  {
   "cell_type": "markdown",
   "metadata": {},
   "source": [
    "So far we have only considered the mean price, however, what if we wanted to create a number of statistics for each aggregation. We can do this quite simply, however, this requires that we write our own custom function. You have used lots of functions so far in these practicals, some have been built into base R, and others become available by loading packages.\n",
    "\n",
    "The basic structure of a function is:\n",
    "\n",
    "```\n",
    "function_name <- function(argument1,argument2,...){\n",
    "    Statments that do something...\n",
    "    return(something to return from the function)\n",
    "}\n",
    "```\n",
    "In this example we create a new function called \"data_description\" which calculates a mean and counts the number of records - these are stored within a new object called \"stats\" which is returned when the function is run.\n"
   ]
  },
  {
   "cell_type": "code",
   "execution_count": null,
   "metadata": {},
   "outputs": [],
   "source": [
    "# User defined function\n",
    "data_description <- function(x) { \n",
    "  stats <- c(M = mean(x), S = length(x))\n",
    "  return(stats)\n",
    "  }\n"
   ]
  },
  {
   "cell_type": "markdown",
   "metadata": {},
   "source": [
    "We can see how this works by simply supplying the function some data - in this case, all the prices:"
   ]
  },
  {
   "cell_type": "code",
   "execution_count": null,
   "metadata": {},
   "outputs": [],
   "source": [
    "data_description(amsterdam$price)"
   ]
  },
  {
   "cell_type": "markdown",
   "metadata": {},
   "source": [
    "This returned the mean price, plus the length of the supplied string which is the same as the number of rows in the data frame - i.e. ``r nrow(amsterdam)``. We can now use our function to create means for aggregations using a very helpful package called doBy which we will load now:"
   ]
  },
  {
   "cell_type": "code",
   "execution_count": null,
   "metadata": {
    "eval": false,
    "lines_to_next_cell": 0
   },
   "outputs": [],
   "source": [
    "install.packages(\"doBy\")"
   ]
  },
  {
   "cell_type": "code",
   "execution_count": null,
   "metadata": {},
   "outputs": [],
   "source": [
    "library(doBy)"
   ]
  },
  {
   "cell_type": "markdown",
   "metadata": {},
   "source": [
    "Using the summaryBy() function we can now apply our data_description() function to a set of aggregations. We separate the price from the grouping variable using the \"~\" symbol. If you are wondering what an Earth House is, [Wiki has an answer](https://en.wikipedia.org/wiki/Earth_house)..."
   ]
  },
  {
   "cell_type": "code",
   "execution_count": null,
   "metadata": {},
   "outputs": [],
   "source": [
    "  summaryBy(price ~ property_type, data = amsterdam, FUN = data_description )"
   ]
  },
  {
   "cell_type": "markdown",
   "metadata": {},
   "source": [
    "## Spatial summary measures\n",
    "\n",
    "So far we have considered a pre-defined geography in the previous example: neighborhoods. However, a common spatial analysis task is to create descriptive statistics related to the context of features. This task will typically require a buffer to be created around a feature and then data aggregated and summarized within the buffers.\n",
    "\n",
    "First we will import a spatial data file that relates to [historic building locations](http://maps.amsterdam.nl/open_geodata/):"
   ]
  },
  {
   "cell_type": "code",
   "execution_count": null,
   "metadata": {
    "lines_to_next_cell": 2
   },
   "outputs": [],
   "source": [
    "#Load package\n",
    "library(rgdal,verbose = FALSE)"
   ]
  },
  {
   "cell_type": "code",
   "execution_count": null,
   "metadata": {},
   "outputs": [],
   "source": [
    "historic = readOGR(\"./data/historic_buildings.geojson\", \"OGRGeoJSON\",verbose = FALSE)"
   ]
  },
  {
   "cell_type": "markdown",
   "metadata": {},
   "source": [
    "We will then create a spatial point data frame using Airbnb data:"
   ]
  },
  {
   "cell_type": "code",
   "execution_count": null,
   "metadata": {},
   "outputs": [],
   "source": [
    "# Create the SpatialPointsDataFrame\n",
    "SP_amsterdam <- SpatialPointsDataFrame(coords = data.frame(amsterdam$longitude, amsterdam$latitude), data = amsterdam, proj4string = historic@proj4string)"
   ]
  },
  {
   "cell_type": "markdown",
   "metadata": {},
   "source": [
    "We will now use the function gBuffer() which is found within the Rgeos package to create radial buffers around the historic building locations, however, before we can do this we must first alter the [projection](https://en.wikipedia.org/wiki/Map_projection) of both the spatial point data frames so that they have a unit in meters - currently these are projected as WGS84. A common projection in meters for the Netherlands is [\"Amersfoort / RD Old EPSG:28992\"](http://spatialreference.org/ref/epsg/amersfoort-rd-new/). We can convert both objects to this projection using the spTransform() function.\n"
   ]
  },
  {
   "cell_type": "code",
   "execution_count": null,
   "metadata": {},
   "outputs": [],
   "source": [
    "# Convert Airbnb\n",
    "SP_amsterdam <- spTransform(SP_amsterdam, CRS( \"+init=epsg:28992\" ))\n",
    "\n",
    "# Convert historic buildings\n",
    "historic <- spTransform(historic, CRS( \"+init=epsg:28992\" ) ) \n",
    "\n",
    "# View Airbnb\n",
    "plot(SP_amsterdam)\n",
    "\n",
    "# View historic buildings\n",
    "plot(historic)"
   ]
  },
  {
   "cell_type": "markdown",
   "metadata": {},
   "source": [
    "Now that the projections are in a CRS with meters as the unit we can specify a sensible width for the gBuffer function - we will set this as 200 meters."
   ]
  },
  {
   "cell_type": "code",
   "execution_count": null,
   "metadata": {},
   "outputs": [],
   "source": [
    "#Load package\n",
    "library(rgeos,verbose = FALSE)\n",
    "#Create buffer\n",
    "historic_Buffers <- gBuffer(historic, width = 200, byid = TRUE)\n",
    "# Show buffer\n",
    "plot(historic_Buffers)"
   ]
  },
  {
   "cell_type": "markdown",
   "metadata": {},
   "source": [
    "This function has created a SpatialPolygonsDataFrame with 200m buffers around the points. The data attributes of the new object are the same as the points:"
   ]
  },
  {
   "cell_type": "code",
   "execution_count": null,
   "metadata": {},
   "outputs": [],
   "source": [
    "# View top six rows of data\n",
    "head(historic_Buffers@data)"
   ]
  },
  {
   "cell_type": "markdown",
   "metadata": {},
   "source": [
    "As we illustrated in a previous practical (see 2. Data Manipulation in R) we can use point.in.poly() to identify which points lie within a polygon; however, in this example things are a little more complex and many of the polygons overlap; and thus a point can be in multiple polygons. As such we will use a slightly less automated technique. For this we will use the over() function, however, because we are interested in calculating some values for each buffer area, we first need to add an extra parameter - returnList=TRUE. This returns a list of data frames, where each element of the list is a separate data frame and refers to a buffer, and the values those Airbnb records that are within this zone. This is a little different from the lists you created previously that were just lists of character strings or numerics."
   ]
  },
  {
   "cell_type": "code",
   "execution_count": null,
   "metadata": {
    "lines_to_next_cell": 0
   },
   "outputs": [],
   "source": [
    "# Create point in polygon list\n",
    "o <- over(historic_Buffers, SP_amsterdam, returnList = TRUE)\n",
    "# View length of the list - this is the same length as the number of historic buildings / buffers\n",
    "length(o)"
   ]
  },
  {
   "cell_type": "markdown",
   "metadata": {
    "lines_to_next_cell": 0
   },
   "source": [
    "If we examine the object o, we will see also see that this comprises a list of data frames. The summary function tells you about an object - head, is used to wrap around the function so only the first six elements are shown:"
   ]
  },
  {
   "cell_type": "code",
   "execution_count": null,
   "metadata": {},
   "outputs": [],
   "source": [
    "head(summary(o))"
   ]
  },
  {
   "cell_type": "code",
   "execution_count": null,
   "metadata": {},
   "outputs": [],
   "source": [
    "# View an item from the list (in this case, item 199)\n",
    "o[[199]]"
   ]
  },
  {
   "cell_type": "markdown",
   "metadata": {},
   "source": [
    "We will discuss plotting in more detail during a later practical, however, here we plot the results of the point in polygon:"
   ]
  },
  {
   "cell_type": "code",
   "execution_count": null,
   "metadata": {
    "tags": [
     "remove_input"
    ]
   },
   "outputs": [],
   "source": [
    "# Plot the buffer for item 199\n",
    "plot(historic_Buffers[199, ], col = \"#D4D4D4\")\n",
    "# get a list of properties that are within this buffer\n",
    "row_o <- o[[199]]$id\n",
    "# Plot all the buildings\n",
    "plot(SP_amsterdam, pch = 19, cex = 0.5, col = \"#7F7F7F\", add = TRUE)\n",
    "# Plot buildings within buffer\n",
    "plot(SP_amsterdam[SP_amsterdam$id %in% row_o, ], pch = 19, cex = 0.5, col = \"#FF4500\", add = TRUE)"
   ]
  },
  {
   "cell_type": "markdown",
   "metadata": {},
   "source": [
    "We can now look at the results of the point in polygon analysis and calculate the characteristics within each buffer. The first stage is to use the lapply() function to apply a function across the list - the first function removes all columns within each of the data frames within the list, apart from those specified; and the second calculates the mean - note that we also use the unlist() function that creates a vector of the prices."
   ]
  },
  {
   "cell_type": "code",
   "execution_count": null,
   "metadata": {},
   "outputs": [],
   "source": [
    "\n",
    "# Keep just the price\n",
    "o_cut <- lapply(o, function(x) x[(names(x) = \"price\")])\n",
    "\n",
    "#Show just the prices for 199th item in the list\n",
    "o_cut[199]\n",
    "\n",
    "#Create a list of the mean price within the buffer\n",
    "average_buffer_price <- lapply(o_cut, function(x) mean(unlist(x)))\n"
   ]
  },
  {
   "cell_type": "markdown",
   "metadata": {},
   "source": [
    "We will now convert this list to a data frame and then append this back onto the historic buffer locations:"
   ]
  },
  {
   "cell_type": "code",
   "execution_count": null,
   "metadata": {},
   "outputs": [],
   "source": [
    "# Create data frame\n",
    "average_buffer_price <- data.frame(unlist(average_buffer_price))\n",
    "\n",
    "# Update column names\n",
    "colnames(average_buffer_price) <- \"Av_price_200m\"\n",
    "\n",
    "# Append the buildings\n",
    "historic_Buffers@data <- cbind(historic_Buffers@data,average_buffer_price)\n",
    "\n",
    "# View the top six rows\n",
    "head(historic@data)"
   ]
  },
  {
   "cell_type": "markdown",
   "metadata": {},
   "source": [
    "The buffers are also shown on a map:"
   ]
  },
  {
   "cell_type": "code",
   "execution_count": null,
   "metadata": {
    "tags": [
     "remove_input"
    ]
   },
   "outputs": [],
   "source": [
    "library(tmap)\n",
    "m <- tm_shape(historic_Buffers, projection=28992) +\n",
    "    tm_polygons(col=\"Av_price_200m\", style=\"jenks\",n=5, showNA=FALSE,palette=\"Blues\") +\n",
    "   tm_layout(legend.position = c(\"right\", \"top\"), frame = FALSE)\n",
    "#Print plot\n",
    "tmap_leaflet(m)"
   ]
  },
  {
   "cell_type": "markdown",
   "metadata": {},
   "source": [
    "# Further resources / training\n",
    "* [Stats Methods](http://www.statmethods.net/stats/descriptives.html) - some useful descriptions of various descriptive statistic methods / packages\n",
    "* [Spatial cheat sheet](http://www.maths.lancs.ac.uk/~rowlings/Teaching/UseR2012/cheatsheet.html) - lots of useful help and functions for working with spatial data"
   ]
  }
 ],
 "metadata": {
  "jupytext": {
   "cell_metadata_filter": "eval,tags,-all",
   "main_language": "R",
   "notebook_metadata_filter": "-all"
  },
  "kernelspec": {
   "display_name": "Python 3",
   "language": "python",
   "name": "python3"
  }
 },
 "nbformat": 4,
 "nbformat_minor": 4
}
