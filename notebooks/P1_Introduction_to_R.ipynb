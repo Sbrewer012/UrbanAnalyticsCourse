{
 "cells": [
  {
   "cell_type": "markdown",
   "metadata": {},
   "source": [
    "# Introduction to R"
   ]
  },
  {
   "cell_type": "markdown",
   "metadata": {},
   "source": [
    "## Learning Objectives\n",
    "By the end of this practical lab you will be able to:\n",
    "\n",
    "* Install R and extension packages\n",
    "* Calculate new values\n",
    "* Set and use variables\n",
    "* Understand the different types of operator\n",
    "* Create basic conditional statements\n",
    "\n",
    "## Installing and using R\n",
    "R is a statistical programming language which can be downloaded for free and installed on a range of different platforms including Windows, Mac OS and Linux (e.g. Ubuntu). The appropriate installation files for your computer operating system can be downloaded here: [cloud.r-project.org](https://cloud.r-project.org/). Alternatively, if you are using a managed systems (e.g. at a university or office) you might already find R installed.\n",
    "\n",
    "To make R function, commands are entered into the R terminal, which returns results. The R download contains a lot of pre-built functions referred to as \"base R\".\n",
    "\n",
    "R has a slightly different interface when running on either Windows, Mac OS or Linux; however, it is very common for R to be used within an Integrated Development Environment (IDE). The most common of these is R Studio which can be downloaded here: [www.rstudio.com/products/rstudio/#Desktop](https://www.rstudio.com/products/rstudio/#Desktop). R Studio provides a user friendly interface to R, and helps new users by integrating a series of the components of R into a single window interface.\n",
    "\n",
    "![](rstudio.png)\n",
    "\n",
    "The R console (terminal) is visible in the bottom left of the interface and commands can be entered directly after the \">\". To run a command, after this is type in you press enter/return. For example, try a simple arithmetic:"
   ]
  },
  {
   "cell_type": "code",
   "execution_count": 1,
   "metadata": {},
   "outputs": [
    {
     "data": {
      "text/plain": [
       "6"
      ]
     },
     "execution_count": 1,
     "metadata": {},
     "output_type": "execute_result"
    }
   ],
   "source": [
    "1+5"
   ]
  },
  {
   "cell_type": "markdown",
   "metadata": {
    "lines_to_next_cell": 0
   },
   "source": [
    "The basic R functions can be expanded by installing additional \"packages\", for example:"
   ]
  },
  {
   "cell_type": "code",
   "execution_count": 1,
   "metadata": {
    "eval": false,
    "scrolled": true
   },
   "outputs": [
    {
     "name": "stderr",
     "output_type": "stream",
     "text": [
      "also installing the dependencies 'isoband', 'rlang'\n",
      "\n"
     ]
    },
    {
     "name": "stdout",
     "output_type": "stream",
     "text": [
      "\n",
      "  There is a binary version available but the source version is later:\n",
      "        binary source needs_compilation\n",
      "ggplot2  3.3.3  3.3.5             FALSE\n",
      "\n",
      "package 'isoband' successfully unpacked and MD5 sums checked\n",
      "package 'rlang' successfully unpacked and MD5 sums checked\n",
      "\n",
      "The downloaded binary packages are in\n",
      "\tC:\\Users\\Andrew Chapkowski\\AppData\\Local\\Temp\\Rtmp08yvKT\\downloaded_packages\n"
     ]
    },
    {
     "name": "stderr",
     "output_type": "stream",
     "text": [
      "installing the source package 'ggplot2'\n",
      "\n"
     ]
    }
   ],
   "source": [
    "#Install / download the package ggplot2\n",
    "install.packages(\"ggplot2\")\n",
    "#Loads the package which make the functions contained within it available to use\n",
    "library(ggplot2)"
   ]
  },
  {
   "cell_type": "markdown",
   "metadata": {},
   "source": [
    "Sometimes it is useful to store the code you are writing for later reuse. This is quite simple because R code can be stored in text files; these are typically given the extension .R. These files can also be opened within R studio, and can be created using the file menu. Open .R files are shown in the top left window. By highlighting code within this window and clicking the \"Run\" button, the commands are sent to the console and run. *This is a good way of saving your work!*. There are also other types of files which can be opened or created within R-Studio that produce an excellent way to embed analysis and interpretation in a single document. These are outside the scope of this practical, however, there are some great tutorials available here: [rmarkdown.rstudio.com/](http://rmarkdown.rstudio.com/).\n",
    "\n",
    "Before starting any R analysis it is useful to see where your working directory has been set. This is the default location where R looks for files to read in or write out (see the next practical - \"Data Manipulation in R\"). You can check your working directory using the getwd() function:"
   ]
  },
  {
   "cell_type": "code",
   "execution_count": 4,
   "metadata": {
    "eval": false,
    "lines_to_next_cell": 0
   },
   "outputs": [
    {
     "data": {
      "text/html": [
       "'c:/temp'"
      ],
      "text/latex": [
       "'c:/temp'"
      ],
      "text/markdown": [
       "'c:/temp'"
      ],
      "text/plain": [
       "[1] \"c:/temp\""
      ]
     },
     "metadata": {},
     "output_type": "display_data"
    }
   ],
   "source": [
    "getwd()"
   ]
  },
  {
   "cell_type": "markdown",
   "metadata": {},
   "source": [
    "You can also set this by entering a directory location using the setwd() function:"
   ]
  },
  {
   "cell_type": "code",
   "execution_count": 5,
   "metadata": {
    "eval": false
   },
   "outputs": [],
   "source": [
    "setwd(\"c:/temp\")"
   ]
  },
  {
   "cell_type": "markdown",
   "metadata": {},
   "source": [
    "##Creating Objects and their classes\n",
    "\n",
    "Objects in R are a way of storing values which can be returned for reuse later in your code. These use the \"<-\" symbol. For example:"
   ]
  },
  {
   "cell_type": "code",
   "execution_count": 6,
   "metadata": {},
   "outputs": [
    {
     "data": {
      "text/html": [
       "15"
      ],
      "text/latex": [
       "15"
      ],
      "text/markdown": [
       "15"
      ],
      "text/plain": [
       "[1] 15"
      ]
     },
     "metadata": {},
     "output_type": "display_data"
    }
   ],
   "source": [
    "a <- 5\n",
    "b <- 10\n",
    "a + b"
   ]
  },
  {
   "cell_type": "markdown",
   "metadata": {},
   "source": [
    "There are a range of different data types which include: numeric, integer, logical, character and complex (which isn't covered here). The following code illustrates how these variables can be assigned and their values checked. Also - note that we can add comments to our code using the \"#\" symbol - this is not run by the R compiler."
   ]
  },
  {
   "cell_type": "code",
   "execution_count": 7,
   "metadata": {
    "lines_to_next_cell": 2
   },
   "outputs": [
    {
     "data": {
      "text/html": [
       "'numeric'"
      ],
      "text/latex": [
       "'numeric'"
      ],
      "text/markdown": [
       "'numeric'"
      ],
      "text/plain": [
       "[1] \"numeric\""
      ]
     },
     "metadata": {},
     "output_type": "display_data"
    },
    {
     "data": {
      "text/html": [
       "51"
      ],
      "text/latex": [
       "51"
      ],
      "text/markdown": [
       "51"
      ],
      "text/plain": [
       "[1] 51"
      ]
     },
     "metadata": {},
     "output_type": "display_data"
    },
    {
     "data": {
      "text/html": [
       "FALSE"
      ],
      "text/latex": [
       "FALSE"
      ],
      "text/markdown": [
       "FALSE"
      ],
      "text/plain": [
       "[1] FALSE"
      ]
     },
     "metadata": {},
     "output_type": "display_data"
    },
    {
     "data": {
      "text/html": [
       "TRUE"
      ],
      "text/latex": [
       "TRUE"
      ],
      "text/markdown": [
       "TRUE"
      ],
      "text/plain": [
       "[1] TRUE"
      ]
     },
     "metadata": {},
     "output_type": "display_data"
    }
   ],
   "source": [
    "#Creates a variable called z, which stores a numeric value\n",
    "z <- 54.8\n",
    "class(z) #class function returns the class of the object\n",
    "\n",
    "#Creates a variable called y, which stores a integer value\n",
    "y <- 51\n",
    "y #prints the value of a variable \n",
    "\n",
    "#Creates variables c and d, then q which stores the output of the logical query\n",
    "c <- 5\n",
    "d <- 2\n",
    "q <- c < d #stores a true / false if d is greater than c\n",
    "q\n",
    "\n",
    "#Creates a variable called s, which stores a character value\n",
    "s <- \"Hello\"\n",
    "is.character(s) #a function to check if an object is a character - returns true or false"
   ]
  },
  {
   "cell_type": "markdown",
   "metadata": {},
   "source": [
    "### Converting Between Object Classes\n",
    "\n",
    "Sometimes it is necessary to convert between different object types, for example, numeric to character or vice versa."
   ]
  },
  {
   "cell_type": "code",
   "execution_count": 8,
   "metadata": {
    "lines_to_next_cell": 2
   },
   "outputs": [
    {
     "data": {
      "text/html": [
       "'4'"
      ],
      "text/latex": [
       "'4'"
      ],
      "text/markdown": [
       "'4'"
      ],
      "text/plain": [
       "[1] \"4\""
      ]
     },
     "metadata": {},
     "output_type": "display_data"
    },
    {
     "data": {
      "text/html": [
       "1"
      ],
      "text/latex": [
       "1"
      ],
      "text/markdown": [
       "1"
      ],
      "text/plain": [
       "[1] 1"
      ]
     },
     "metadata": {},
     "output_type": "display_data"
    }
   ],
   "source": [
    "u <- 4 #creates a numeric object\n",
    "as.character(u) #Converts the variable to a character, which is visible in the printed result as the number is surrounded by a double quote\n",
    "\n",
    "i <- \"1\" #creates a character object\n",
    "as.numeric(i) #Converts the character object to a numeric"
   ]
  },
  {
   "cell_type": "markdown",
   "metadata": {},
   "source": [
    "### Vectors\n",
    "\n",
    "It is also possible to store multiple values of the same data type within an object which are called vectors. These are created using the \"c()\" function. For example:"
   ]
  },
  {
   "cell_type": "code",
   "execution_count": 9,
   "metadata": {},
   "outputs": [
    {
     "data": {
      "text/html": [
       "<ol class=list-inline>\n",
       "\t<li>-2</li>\n",
       "\t<li>-4</li>\n",
       "\t<li>-4</li>\n",
       "\t<li>-6</li>\n",
       "\t<li>-4</li>\n",
       "\t<li>7</li>\n",
       "\t<li>6</li>\n",
       "</ol>\n"
      ],
      "text/latex": [
       "\\begin{enumerate*}\n",
       "\\item -2\n",
       "\\item -4\n",
       "\\item -4\n",
       "\\item -6\n",
       "\\item -4\n",
       "\\item 7\n",
       "\\item 6\n",
       "\\end{enumerate*}\n"
      ],
      "text/markdown": [
       "1. -2\n",
       "2. -4\n",
       "3. -4\n",
       "4. -6\n",
       "5. -4\n",
       "6. 7\n",
       "7. 6\n",
       "\n",
       "\n"
      ],
      "text/plain": [
       "[1] -2 -4 -4 -6 -4  7  6"
      ]
     },
     "metadata": {},
     "output_type": "display_data"
    },
    {
     "data": {
      "text/html": [
       "<ol class=list-inline>\n",
       "\t<li>20</li>\n",
       "\t<li>30</li>\n",
       "\t<li>50</li>\n",
       "\t<li>60</li>\n",
       "\t<li>70</li>\n",
       "\t<li>80</li>\n",
       "\t<li>90</li>\n",
       "</ol>\n"
      ],
      "text/latex": [
       "\\begin{enumerate*}\n",
       "\\item 20\n",
       "\\item 30\n",
       "\\item 50\n",
       "\\item 60\n",
       "\\item 70\n",
       "\\item 80\n",
       "\\item 90\n",
       "\\end{enumerate*}\n"
      ],
      "text/markdown": [
       "1. 20\n",
       "2. 30\n",
       "3. 50\n",
       "4. 60\n",
       "5. 70\n",
       "6. 80\n",
       "7. 90\n",
       "\n",
       "\n"
      ],
      "text/plain": [
       "[1] 20 30 50 60 70 80 90"
      ]
     },
     "metadata": {},
     "output_type": "display_data"
    }
   ],
   "source": [
    "# creates a numeric vector\n",
    "v_1 <- c(2,3,5,6,7,8,9) \n",
    "v_2 <- c(4,7,9,12,11,1,3) # creates a second numeric vector\n",
    "v_1 - v_2 # vectors can be used as variables with operators - this calculates the difference between v_1 and v_2\n",
    "v_1 * 10 #vectors can also be combined with constants\n",
    "\n",
    "# creates a character string vector\n",
    "v_3 <- c(\"I\",\"like\",\"R\",\"it\",\"is\",\"fun\")"
   ]
  },
  {
   "cell_type": "markdown",
   "metadata": {},
   "source": [
    "It is also possible to extract an element of a vector using an index."
   ]
  },
  {
   "cell_type": "code",
   "execution_count": 10,
   "metadata": {},
   "outputs": [
    {
     "data": {
      "text/html": [
       "'it'"
      ],
      "text/latex": [
       "'it'"
      ],
      "text/markdown": [
       "'it'"
      ],
      "text/plain": [
       "[1] \"it\""
      ]
     },
     "metadata": {},
     "output_type": "display_data"
    }
   ],
   "source": [
    "#Returns the 4th element of the vector v_3\n",
    "v_3[4]"
   ]
  },
  {
   "cell_type": "markdown",
   "metadata": {},
   "source": [
    "A further type of vector which includes mixed objects types are called \"lists\"."
   ]
  },
  {
   "cell_type": "code",
   "execution_count": 11,
   "metadata": {},
   "outputs": [],
   "source": [
    "#Create a mixed list containing two characters, two numbers and a list\n",
    "v_4 <- list(\"A\", \"B\", 4, 5, v_1)"
   ]
  },
  {
   "cell_type": "markdown",
   "metadata": {},
   "source": [
    "Accessing content of the list happens in the same way as a vector."
   ]
  },
  {
   "cell_type": "code",
   "execution_count": 12,
   "metadata": {
    "lines_to_next_cell": 0
   },
   "outputs": [
    {
     "data": {
      "text/html": [
       "<ol>\n",
       "\t<li>'B'</li>\n",
       "\t<li>5</li>\n",
       "</ol>\n"
      ],
      "text/latex": [
       "\\begin{enumerate}\n",
       "\\item 'B'\n",
       "\\item 5\n",
       "\\end{enumerate}\n"
      ],
      "text/markdown": [
       "1. 'B'\n",
       "2. 5\n",
       "\n",
       "\n"
      ],
      "text/plain": [
       "[[1]]\n",
       "[1] \"B\"\n",
       "\n",
       "[[2]]\n",
       "[1] 5\n"
      ]
     },
     "metadata": {},
     "output_type": "display_data"
    }
   ],
   "source": [
    "# Return the second and fourth element of the list\n",
    "v_4[c(2,4)]"
   ]
  },
  {
   "cell_type": "markdown",
   "metadata": {},
   "source": [
    "However, in order to reference part of the list directly a double square bracket is needed. This can also be combined with a second square bracket to pull elements of nested list."
   ]
  },
  {
   "cell_type": "code",
   "execution_count": 13,
   "metadata": {},
   "outputs": [
    {
     "data": {
      "text/html": [
       "<ol class=list-inline>\n",
       "\t<li>2</li>\n",
       "\t<li>3</li>\n",
       "\t<li>5</li>\n",
       "\t<li>6</li>\n",
       "\t<li>7</li>\n",
       "\t<li>8</li>\n",
       "\t<li>9</li>\n",
       "</ol>\n"
      ],
      "text/latex": [
       "\\begin{enumerate*}\n",
       "\\item 2\n",
       "\\item 3\n",
       "\\item 5\n",
       "\\item 6\n",
       "\\item 7\n",
       "\\item 8\n",
       "\\item 9\n",
       "\\end{enumerate*}\n"
      ],
      "text/markdown": [
       "1. 2\n",
       "2. 3\n",
       "3. 5\n",
       "4. 6\n",
       "5. 7\n",
       "6. 8\n",
       "7. 9\n",
       "\n",
       "\n"
      ],
      "text/plain": [
       "[1] 2 3 5 6 7 8 9"
      ]
     },
     "metadata": {},
     "output_type": "display_data"
    },
    {
     "data": {
      "text/html": [
       "<ol class=list-inline>\n",
       "\t<li>5</li>\n",
       "\t<li>6</li>\n",
       "</ol>\n"
      ],
      "text/latex": [
       "\\begin{enumerate*}\n",
       "\\item 5\n",
       "\\item 6\n",
       "\\end{enumerate*}\n"
      ],
      "text/markdown": [
       "1. 5\n",
       "2. 6\n",
       "\n",
       "\n"
      ],
      "text/plain": [
       "[1] 5 6"
      ]
     },
     "metadata": {},
     "output_type": "display_data"
    }
   ],
   "source": [
    "#Return the fifth element of the list directly\n",
    "v_4[[5]]\n",
    "#Return the fifth element of the list directly; then the 3rd and fourth elements of this list\n",
    "v_4[[5]][c(3,4)]"
   ]
  },
  {
   "cell_type": "markdown",
   "metadata": {},
   "source": [
    "### Factors\n",
    "Factors are a further object type that R uses to manage nominal and ordinal values. These can be created from vectors; for example:"
   ]
  },
  {
   "cell_type": "code",
   "execution_count": 14,
   "metadata": {},
   "outputs": [
    {
     "data": {
      "text/html": [
       "TRUE"
      ],
      "text/latex": [
       "TRUE"
      ],
      "text/markdown": [
       "TRUE"
      ],
      "text/plain": [
       "[1] TRUE"
      ]
     },
     "metadata": {},
     "output_type": "display_data"
    },
    {
     "data": {
      "text/html": [
       "FALSE"
      ],
      "text/latex": [
       "FALSE"
      ],
      "text/markdown": [
       "FALSE"
      ],
      "text/plain": [
       "[1] FALSE"
      ]
     },
     "metadata": {},
     "output_type": "display_data"
    },
    {
     "data": {
      "text/html": [
       "TRUE"
      ],
      "text/latex": [
       "TRUE"
      ],
      "text/markdown": [
       "TRUE"
      ],
      "text/plain": [
       "[1] TRUE"
      ]
     },
     "metadata": {},
     "output_type": "display_data"
    }
   ],
   "source": [
    "#Create a nominal vector\n",
    "\n",
    "n <- c(\"London\",\"New York\",\"London\",\"New York\",\"Shanghai\",\"Chicago\",\"Chicago\")\n",
    "is.character(n)\n",
    "o <- factor(n)\n",
    "# The object o is no longer a character vector\n",
    "is.character(o)\n",
    "is.factor(o)"
   ]
  },
  {
   "cell_type": "markdown",
   "metadata": {},
   "source": [
    "It is also possible to check the \"levels\" used in a factor object; and can also be summarised using the summary function."
   ]
  },
  {
   "cell_type": "code",
   "execution_count": 15,
   "metadata": {},
   "outputs": [
    {
     "data": {
      "text/html": [
       "<ol class=list-inline>\n",
       "\t<li>'Chicago'</li>\n",
       "\t<li>'London'</li>\n",
       "\t<li>'New York'</li>\n",
       "\t<li>'Shanghai'</li>\n",
       "</ol>\n"
      ],
      "text/latex": [
       "\\begin{enumerate*}\n",
       "\\item 'Chicago'\n",
       "\\item 'London'\n",
       "\\item 'New York'\n",
       "\\item 'Shanghai'\n",
       "\\end{enumerate*}\n"
      ],
      "text/markdown": [
       "1. 'Chicago'\n",
       "2. 'London'\n",
       "3. 'New York'\n",
       "4. 'Shanghai'\n",
       "\n",
       "\n"
      ],
      "text/plain": [
       "[1] \"Chicago\"  \"London\"   \"New York\" \"Shanghai\""
      ]
     },
     "metadata": {},
     "output_type": "display_data"
    },
    {
     "data": {
      "text/html": [
       "<dl class=dl-horizontal>\n",
       "\t<dt>Chicago</dt>\n",
       "\t\t<dd>2</dd>\n",
       "\t<dt>London</dt>\n",
       "\t\t<dd>2</dd>\n",
       "\t<dt>New York</dt>\n",
       "\t\t<dd>2</dd>\n",
       "\t<dt>Shanghai</dt>\n",
       "\t\t<dd>1</dd>\n",
       "</dl>\n"
      ],
      "text/latex": [
       "\\begin{description*}\n",
       "\\item[Chicago] 2\n",
       "\\item[London] 2\n",
       "\\item[New York] 2\n",
       "\\item[Shanghai] 1\n",
       "\\end{description*}\n"
      ],
      "text/markdown": [
       "Chicago\n",
       ":   2London\n",
       ":   2New York\n",
       ":   2Shanghai\n",
       ":   1\n",
       "\n"
      ],
      "text/plain": [
       " Chicago   London New York Shanghai \n",
       "       2        2        2        1 "
      ]
     },
     "metadata": {},
     "output_type": "display_data"
    }
   ],
   "source": [
    "levels(o) #returns the levels used int he factor\n",
    "summary(o) #returns the count items within the vector coded by each level"
   ]
  },
  {
   "cell_type": "markdown",
   "metadata": {},
   "source": [
    "Ordinal variables have a slightly different specification; for example:"
   ]
  },
  {
   "cell_type": "code",
   "execution_count": 16,
   "metadata": {},
   "outputs": [
    {
     "data": {
      "text/plain": [
       "p\n",
       "Very Unhappy      Unhappy         Fine        Happy   Very Happy \n",
       "           3            3            3            3            3 "
      ]
     },
     "metadata": {},
     "output_type": "display_data"
    }
   ],
   "source": [
    "responses <- c(\"Very Unhappy\", \"Unhappy\",\"Very Unhappy\", \"Unhappy\",\"Very Unhappy\", \"Unhappy\", \"Fine\", \"Happy\", \"Very Happy\", \"Fine\", \"Happy\", \"Very Happy\", \"Fine\", \"Happy\", \"Very Happy\")\n",
    "\n",
    "p <- factor(responses, levels=c(\"Very Unhappy\", \"Unhappy\", \"Fine\", \"Happy\", \"Very Happy\"), ordered=TRUE)\n",
    "table(p) #Works in the same way as summary"
   ]
  },
  {
   "cell_type": "markdown",
   "metadata": {},
   "source": [
    "## Working with variables\n",
    "\n",
    "There are also a series of functions within base R that can work with variables or vectors. Details about how to use any R function can be found by using the \"?\" command. For example, in the case of \"is.character\":"
   ]
  },
  {
   "cell_type": "code",
   "execution_count": null,
   "metadata": {
    "lines_to_next_cell": 2
   },
   "outputs": [],
   "source": [
    "?is.character()"
   ]
  },
  {
   "cell_type": "markdown",
   "metadata": {},
   "source": [
    "### Character Functions"
   ]
  },
  {
   "cell_type": "code",
   "execution_count": 17,
   "metadata": {
    "lines_to_next_cell": 2
   },
   "outputs": [
    {
     "data": {
      "text/html": [
       "6"
      ],
      "text/latex": [
       "6"
      ],
      "text/markdown": [
       "6"
      ],
      "text/plain": [
       "[1] 6"
      ]
     },
     "metadata": {},
     "output_type": "display_data"
    },
    {
     "data": {
      "text/html": [
       "<ol class=list-inline>\n",
       "\t<li>1</li>\n",
       "\t<li>4</li>\n",
       "\t<li>1</li>\n",
       "\t<li>2</li>\n",
       "\t<li>2</li>\n",
       "\t<li>3</li>\n",
       "</ol>\n"
      ],
      "text/latex": [
       "\\begin{enumerate*}\n",
       "\\item 1\n",
       "\\item 4\n",
       "\\item 1\n",
       "\\item 2\n",
       "\\item 2\n",
       "\\item 3\n",
       "\\end{enumerate*}\n"
      ],
      "text/markdown": [
       "1. 1\n",
       "2. 4\n",
       "3. 1\n",
       "4. 2\n",
       "5. 2\n",
       "6. 3\n",
       "\n",
       "\n"
      ],
      "text/plain": [
       "[1] 1 4 1 2 2 3"
      ]
     },
     "metadata": {},
     "output_type": "display_data"
    },
    {
     "data": {
      "text/html": [
       "'ik'"
      ],
      "text/latex": [
       "'ik'"
      ],
      "text/markdown": [
       "'ik'"
      ],
      "text/plain": [
       "[1] \"ik\""
      ]
     },
     "metadata": {},
     "output_type": "display_data"
    },
    {
     "data": {
      "text/html": [
       "'ZBCDEFGHIJKLMNOPQRSTUVWXYZ'"
      ],
      "text/latex": [
       "'ZBCDEFGHIJKLMNOPQRSTUVWXYZ'"
      ],
      "text/markdown": [
       "'ZBCDEFGHIJKLMNOPQRSTUVWXYZ'"
      ],
      "text/plain": [
       "[1] \"ZBCDEFGHIJKLMNOPQRSTUVWXYZ\""
      ]
     },
     "metadata": {},
     "output_type": "display_data"
    },
    {
     "data": {
      "text/html": [
       "3"
      ],
      "text/latex": [
       "3"
      ],
      "text/markdown": [
       "3"
      ],
      "text/plain": [
       "[1] 3"
      ]
     },
     "metadata": {},
     "output_type": "display_data"
    },
    {
     "data": {
      "text/html": [
       "<ol>\n",
       "\t<li><ol class=list-inline>\n",
       "\t<li>'ABC'</li>\n",
       "\t<li>'EFGHIJKLMNOPQRSTUVWXYZ'</li>\n",
       "</ol>\n",
       "</li>\n",
       "</ol>\n"
      ],
      "text/latex": [
       "\\begin{enumerate}\n",
       "\\item \\begin{enumerate*}\n",
       "\\item 'ABC'\n",
       "\\item 'EFGHIJKLMNOPQRSTUVWXYZ'\n",
       "\\end{enumerate*}\n",
       "\n",
       "\\end{enumerate}\n"
      ],
      "text/markdown": [
       "1. 1. 'ABC'\n",
       "2. 'EFGHIJKLMNOPQRSTUVWXYZ'\n",
       "\n",
       "\n",
       "\n",
       "\n",
       "\n"
      ],
      "text/plain": [
       "[[1]]\n",
       "[1] \"ABC\"                    \"EFGHIJKLMNOPQRSTUVWXYZ\"\n"
      ]
     },
     "metadata": {},
     "output_type": "display_data"
    },
    {
     "data": {
      "text/html": [
       "'A B'"
      ],
      "text/latex": [
       "'A B'"
      ],
      "text/markdown": [
       "'A B'"
      ],
      "text/plain": [
       "[1] \"A B\""
      ]
     },
     "metadata": {},
     "output_type": "display_data"
    },
    {
     "data": {
      "text/html": [
       "'AB'"
      ],
      "text/latex": [
       "'AB'"
      ],
      "text/markdown": [
       "'AB'"
      ],
      "text/plain": [
       "[1] \"AB\""
      ]
     },
     "metadata": {},
     "output_type": "display_data"
    },
    {
     "data": {
      "text/html": [
       "'abcdefghijklmnopqrstuvwxyz'"
      ],
      "text/latex": [
       "'abcdefghijklmnopqrstuvwxyz'"
      ],
      "text/markdown": [
       "'abcdefghijklmnopqrstuvwxyz'"
      ],
      "text/plain": [
       "[1] \"abcdefghijklmnopqrstuvwxyz\""
      ]
     },
     "metadata": {},
     "output_type": "display_data"
    },
    {
     "data": {
      "text/html": [
       "'HELLO'"
      ],
      "text/latex": [
       "'HELLO'"
      ],
      "text/markdown": [
       "'HELLO'"
      ],
      "text/plain": [
       "[1] \"HELLO\""
      ]
     },
     "metadata": {},
     "output_type": "display_data"
    }
   ],
   "source": [
    "#Character functions\n",
    "length(v_3) #Return the length of a string\n",
    "\n",
    "#Find out how many characters each element of a string contains\n",
    "nchar(v_3)\n",
    "\n",
    "#Create a new variable from the 2nd element of the vector v_3\n",
    "k <- v_3[2]\n",
    "\n",
    "#Use the substring function to extract characters between the 2-3rd characters\n",
    "substr(k,2,3)\n",
    "\n",
    "# Substitute an element of a string\n",
    "u <- \"ABCDEFGHIJKLMNOPQRSTUVWXYZ\"\n",
    "gsub(\"A\",\"Z\",u) #Replace the letter A with Z\n",
    "\n",
    "#Find the position of a string within a vector\n",
    "grep(\"R\",v_3)\n",
    "\n",
    "#Split a string on a particular character; returns a two element vector\n",
    "u_2 <- strsplit(u,\"D\")\n",
    "u_2[1] #prints the first element of the vector\n",
    "\n",
    "#Concatenate strings\n",
    "paste(\"A\",\"B\")#combines the two strings with a space separating\n",
    "paste0(\"A\",\"B\")#combines the two strings without a space separating\n",
    "\n",
    "#Change the case of a string\n",
    "tolower(u)\n",
    "toupper(\"hello\")"
   ]
  },
  {
   "cell_type": "markdown",
   "metadata": {},
   "source": [
    "### Numeric Functions"
   ]
  },
  {
   "cell_type": "code",
   "execution_count": 18,
   "metadata": {},
   "outputs": [
    {
     "data": {
      "text/html": [
       "0.0369852145668119"
      ],
      "text/latex": [
       "0.0369852145668119"
      ],
      "text/markdown": [
       "0.0369852145668119"
      ],
      "text/plain": [
       "[1] 0.03698521"
      ]
     },
     "metadata": {},
     "output_type": "display_data"
    },
    {
     "data": {
      "text/html": [
       "0.984922595554963"
      ],
      "text/latex": [
       "0.984922595554963"
      ],
      "text/markdown": [
       "0.984922595554963"
      ],
      "text/plain": [
       "[1] 0.9849226"
      ]
     },
     "metadata": {},
     "output_type": "display_data"
    },
    {
     "data": {
      "text/html": [
       "0.287844732597737"
      ],
      "text/latex": [
       "0.287844732597737"
      ],
      "text/markdown": [
       "0.287844732597737"
      ],
      "text/plain": [
       "[1] 0.2878447"
      ]
     },
     "metadata": {},
     "output_type": "display_data"
    },
    {
     "data": {
      "text/html": [
       "0.526213036149275"
      ],
      "text/latex": [
       "0.526213036149275"
      ],
      "text/markdown": [
       "0.526213036149275"
      ],
      "text/plain": [
       "[1] 0.526213"
      ]
     },
     "metadata": {},
     "output_type": "display_data"
    },
    {
     "data": {
      "text/html": [
       "0.550963063607924"
      ],
      "text/latex": [
       "0.550963063607924"
      ],
      "text/markdown": [
       "0.550963063607924"
      ],
      "text/plain": [
       "[1] 0.5509631"
      ]
     },
     "metadata": {},
     "output_type": "display_data"
    },
    {
     "data": {
      "text/html": [
       "<ol class=list-inline>\n",
       "\t<li>0.0369852145668119</li>\n",
       "\t<li>0.984922595554963</li>\n",
       "</ol>\n"
      ],
      "text/latex": [
       "\\begin{enumerate*}\n",
       "\\item 0.0369852145668119\n",
       "\\item 0.984922595554963\n",
       "\\end{enumerate*}\n"
      ],
      "text/markdown": [
       "1. 0.0369852145668119\n",
       "2. 0.984922595554963\n",
       "\n",
       "\n"
      ],
      "text/plain": [
       "[1] 0.03698521 0.98492260"
      ]
     },
     "metadata": {},
     "output_type": "display_data"
    },
    {
     "data": {
      "text/html": [
       "6"
      ],
      "text/latex": [
       "6"
      ],
      "text/markdown": [
       "6"
      ],
      "text/plain": [
       "[1] 6"
      ]
     },
     "metadata": {},
     "output_type": "display_data"
    },
    {
     "data": {
      "text/html": [
       "2.23606797749979"
      ],
      "text/latex": [
       "2.23606797749979"
      ],
      "text/markdown": [
       "2.23606797749979"
      ],
      "text/plain": [
       "[1] 2.236068"
      ]
     },
     "metadata": {},
     "output_type": "display_data"
    },
    {
     "data": {
      "text/html": [
       "1.36172783601759"
      ],
      "text/latex": [
       "1.36172783601759"
      ],
      "text/markdown": [
       "1.36172783601759"
      ],
      "text/plain": [
       "[1] 1.361728"
      ]
     },
     "metadata": {},
     "output_type": "display_data"
    }
   ],
   "source": [
    "\n",
    "#Create a 100 random numbers\n",
    "h <- runif(100, 0.0, 1.0)\n",
    "\n",
    "# Min\n",
    "min(h)\n",
    "\n",
    "# Max\n",
    "max(h)\n",
    "\n",
    "# Standard Deviation\n",
    "sd(h)\n",
    "\n",
    "# Mean\n",
    "mean(h)\n",
    "\n",
    "# Median\n",
    "median(h)\n",
    "\n",
    "# Range\n",
    "range(h)\n",
    "\n",
    "#Round Variables\n",
    "round(5.75)\n",
    "\n",
    "#Square Root\n",
    "sqrt(5)\n",
    "\n",
    "#Log10\n",
    "log10(23)\n"
   ]
  },
  {
   "cell_type": "markdown",
   "metadata": {},
   "source": [
    "It is also possible to generate a range of descriptive statistics using a summary function:"
   ]
  },
  {
   "cell_type": "code",
   "execution_count": 19,
   "metadata": {},
   "outputs": [
    {
     "data": {
      "text/plain": [
       "   Min. 1st Qu.  Median    Mean 3rd Qu.    Max. \n",
       "0.03699 0.26563 0.55096 0.52621 0.75898 0.98492 "
      ]
     },
     "metadata": {},
     "output_type": "display_data"
    }
   ],
   "source": [
    "summary(h)"
   ]
  },
  {
   "cell_type": "markdown",
   "metadata": {},
   "source": [
    "### Operators\n",
    "\n",
    "There are a range of different operators that can be used to work with variables. These include standard arithmetic operators such as + - / * or exponents can be made using a ^."
   ]
  },
  {
   "cell_type": "code",
   "execution_count": 20,
   "metadata": {},
   "outputs": [
    {
     "data": {
      "text/html": [
       "4"
      ],
      "text/latex": [
       "4"
      ],
      "text/markdown": [
       "4"
      ],
      "text/plain": [
       "[1] 4"
      ]
     },
     "metadata": {},
     "output_type": "display_data"
    },
    {
     "data": {
      "text/html": [
       "1"
      ],
      "text/latex": [
       "1"
      ],
      "text/markdown": [
       "1"
      ],
      "text/plain": [
       "[1] 1"
      ]
     },
     "metadata": {},
     "output_type": "display_data"
    },
    {
     "data": {
      "text/html": [
       "0.571428571428571"
      ],
      "text/latex": [
       "0.571428571428571"
      ],
      "text/markdown": [
       "0.571428571428571"
      ],
      "text/plain": [
       "[1] 0.5714286"
      ]
     },
     "metadata": {},
     "output_type": "display_data"
    },
    {
     "data": {
      "text/html": [
       "16"
      ],
      "text/latex": [
       "16"
      ],
      "text/markdown": [
       "16"
      ],
      "text/plain": [
       "[1] 16"
      ]
     },
     "metadata": {},
     "output_type": "display_data"
    },
    {
     "data": {
      "text/html": [
       "16"
      ],
      "text/latex": [
       "16"
      ],
      "text/markdown": [
       "16"
      ],
      "text/plain": [
       "[1] 16"
      ]
     },
     "metadata": {},
     "output_type": "display_data"
    }
   ],
   "source": [
    "1 + 3\n",
    "3 - 2\n",
    "4 / 7\n",
    "8 * 2\n",
    "2^4"
   ]
  },
  {
   "cell_type": "markdown",
   "metadata": {},
   "source": [
    "There are also logical operators that include:"
   ]
  },
  {
   "cell_type": "code",
   "execution_count": 21,
   "metadata": {},
   "outputs": [
    {
     "data": {
      "text/html": [
       "TRUE"
      ],
      "text/latex": [
       "TRUE"
      ],
      "text/markdown": [
       "TRUE"
      ],
      "text/plain": [
       "[1] TRUE"
      ]
     },
     "metadata": {},
     "output_type": "display_data"
    },
    {
     "data": {
      "text/html": [
       "TRUE"
      ],
      "text/latex": [
       "TRUE"
      ],
      "text/markdown": [
       "TRUE"
      ],
      "text/plain": [
       "[1] TRUE"
      ]
     },
     "metadata": {},
     "output_type": "display_data"
    },
    {
     "data": {
      "text/html": [
       "FALSE"
      ],
      "text/latex": [
       "FALSE"
      ],
      "text/markdown": [
       "FALSE"
      ],
      "text/plain": [
       "[1] FALSE"
      ]
     },
     "metadata": {},
     "output_type": "display_data"
    },
    {
     "data": {
      "text/html": [
       "TRUE"
      ],
      "text/latex": [
       "TRUE"
      ],
      "text/markdown": [
       "TRUE"
      ],
      "text/plain": [
       "[1] TRUE"
      ]
     },
     "metadata": {},
     "output_type": "display_data"
    },
    {
     "data": {
      "text/html": [
       "FALSE"
      ],
      "text/latex": [
       "FALSE"
      ],
      "text/markdown": [
       "FALSE"
      ],
      "text/plain": [
       "[1] FALSE"
      ]
     },
     "metadata": {},
     "output_type": "display_data"
    },
    {
     "data": {
      "text/html": [
       "TRUE"
      ],
      "text/latex": [
       "TRUE"
      ],
      "text/markdown": [
       "TRUE"
      ],
      "text/plain": [
       "[1] TRUE"
      ]
     },
     "metadata": {},
     "output_type": "display_data"
    },
    {
     "data": {
      "text/html": [
       "TRUE"
      ],
      "text/latex": [
       "TRUE"
      ],
      "text/markdown": [
       "TRUE"
      ],
      "text/plain": [
       "[1] TRUE"
      ]
     },
     "metadata": {},
     "output_type": "display_data"
    },
    {
     "data": {
      "text/html": [
       "FALSE"
      ],
      "text/latex": [
       "FALSE"
      ],
      "text/markdown": [
       "FALSE"
      ],
      "text/plain": [
       "[1] FALSE"
      ]
     },
     "metadata": {},
     "output_type": "display_data"
    }
   ],
   "source": [
    "\n",
    "#Five less than seven?\n",
    "5 < 7\n",
    "\n",
    "#Eight more than 2?\n",
    "8 > 2\n",
    "\n",
    "#7 less than or equal to 5\n",
    "7<=5\n",
    "\n",
    "#2 more than or equal to 2\n",
    "2 >= 2\n",
    "\n",
    "#Is a the same as b\n",
    "a <- \"Hello\"\n",
    "b <- \"Goodbye\"\n",
    "a == b\n",
    "\n",
    "#Is a not equal to b\n",
    "a != b\n",
    "\n",
    "#Does a equal Hello, or b equal Dog?\n",
    "(a == \"Hello\") | (b == \"Dog\") #returns true because one side of the OR (|) operator is true\n",
    "\n",
    "#Does a equal Hello and b equal Dog?\n",
    "(a == \"Hello\") & (b == \"Dog\") #returns false because both sides of the AND (|) operator are not true\n"
   ]
  },
  {
   "cell_type": "markdown",
   "metadata": {},
   "source": [
    "##Working with conditional statements\n",
    "In many analysis tasks there is a need to make decisions based upon a condition being met. These use a range of control structures which commonly include if and else. These are used with with parenthesis, with statements to be run between these being open and closed."
   ]
  },
  {
   "cell_type": "code",
   "execution_count": null,
   "metadata": {},
   "outputs": [],
   "source": [
    "a <- 10\n",
    "b <- 15\n",
    "\n",
    "if(a > b) {#Tests if a is greater than b (it isn't, so returns false)\n",
    "   a * 10 #this statement would be run only if the if had evaluated true\n",
    "} else { #the else condition is run because the if statement evaluated as false\n",
    "  a * 20\n",
    "}"
   ]
  },
  {
   "cell_type": "markdown",
   "metadata": {},
   "source": [
    "## The R Environment\n",
    "\n",
    "Throughout this practical you have been creating R objects. If you have been doing this within the R Studio interface you will have seen these being created in the top right hand pane. However, you can also see what objects are within the environment using the ls() command."
   ]
  },
  {
   "cell_type": "code",
   "execution_count": 22,
   "metadata": {},
   "outputs": [
    {
     "data": {
      "text/html": [
       "<ol class=list-inline>\n",
       "\t<li>'a'</li>\n",
       "\t<li>'b'</li>\n",
       "\t<li>'c'</li>\n",
       "\t<li>'d'</li>\n",
       "\t<li>'h'</li>\n",
       "\t<li>'i'</li>\n",
       "\t<li>'k'</li>\n",
       "\t<li>'n'</li>\n",
       "\t<li>'o'</li>\n",
       "\t<li>'p'</li>\n",
       "\t<li>'q'</li>\n",
       "\t<li>'responses'</li>\n",
       "\t<li>'s'</li>\n",
       "\t<li>'u'</li>\n",
       "\t<li>'u_2'</li>\n",
       "\t<li>'v_1'</li>\n",
       "\t<li>'v_2'</li>\n",
       "\t<li>'v_3'</li>\n",
       "\t<li>'v_4'</li>\n",
       "\t<li>'y'</li>\n",
       "\t<li>'z'</li>\n",
       "</ol>\n"
      ],
      "text/latex": [
       "\\begin{enumerate*}\n",
       "\\item 'a'\n",
       "\\item 'b'\n",
       "\\item 'c'\n",
       "\\item 'd'\n",
       "\\item 'h'\n",
       "\\item 'i'\n",
       "\\item 'k'\n",
       "\\item 'n'\n",
       "\\item 'o'\n",
       "\\item 'p'\n",
       "\\item 'q'\n",
       "\\item 'responses'\n",
       "\\item 's'\n",
       "\\item 'u'\n",
       "\\item 'u\\_2'\n",
       "\\item 'v\\_1'\n",
       "\\item 'v\\_2'\n",
       "\\item 'v\\_3'\n",
       "\\item 'v\\_4'\n",
       "\\item 'y'\n",
       "\\item 'z'\n",
       "\\end{enumerate*}\n"
      ],
      "text/markdown": [
       "1. 'a'\n",
       "2. 'b'\n",
       "3. 'c'\n",
       "4. 'd'\n",
       "5. 'h'\n",
       "6. 'i'\n",
       "7. 'k'\n",
       "8. 'n'\n",
       "9. 'o'\n",
       "10. 'p'\n",
       "11. 'q'\n",
       "12. 'responses'\n",
       "13. 's'\n",
       "14. 'u'\n",
       "15. 'u_2'\n",
       "16. 'v_1'\n",
       "17. 'v_2'\n",
       "18. 'v_3'\n",
       "19. 'v_4'\n",
       "20. 'y'\n",
       "21. 'z'\n",
       "\n",
       "\n"
      ],
      "text/plain": [
       " [1] \"a\"         \"b\"         \"c\"         \"d\"         \"h\"         \"i\"        \n",
       " [7] \"k\"         \"n\"         \"o\"         \"p\"         \"q\"         \"responses\"\n",
       "[13] \"s\"         \"u\"         \"u_2\"       \"v_1\"       \"v_2\"       \"v_3\"      \n",
       "[19] \"v_4\"       \"y\"         \"z\"        "
      ]
     },
     "metadata": {},
     "output_type": "display_data"
    }
   ],
   "source": [
    "ls()"
   ]
  },
  {
   "cell_type": "markdown",
   "metadata": {},
   "source": [
    "You can also save your R environment so that you can reload this later - this uses the save.image() function:"
   ]
  },
  {
   "cell_type": "code",
   "execution_count": 23,
   "metadata": {
    "eval": false,
    "lines_to_next_cell": 2
   },
   "outputs": [],
   "source": [
    "#Save an image\n",
    "save.image(\"Practical_1.RData\")\n",
    "#Load an image\n",
    "load(\"Practical_1.RData\")"
   ]
  },
  {
   "cell_type": "markdown",
   "metadata": {},
   "source": [
    "# Further resources / training\n",
    "* [Introduction to R](https://www.datacamp.com/courses/free-introduction-to-r) - An interactive R tutorial on Data Camp"
   ]
  }
 ],
 "metadata": {
  "jupytext": {
   "cell_metadata_filter": "eval,-all",
   "main_language": "R",
   "notebook_metadata_filter": "-all"
  },
  "kernelspec": {
   "display_name": "R",
   "language": "R",
   "name": "ir"
  },
  "language_info": {
   "codemirror_mode": "r",
   "file_extension": ".r",
   "mimetype": "text/x-r-source",
   "name": "R",
   "pygments_lexer": "r",
   "version": "3.6.1"
  }
 },
 "nbformat": 4,
 "nbformat_minor": 4
}
