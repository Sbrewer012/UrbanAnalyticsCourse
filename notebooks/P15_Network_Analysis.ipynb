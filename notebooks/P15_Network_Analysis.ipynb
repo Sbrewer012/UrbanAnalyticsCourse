{
 "cells": [
  {
   "cell_type": "raw",
   "metadata": {},
   "source": [
    "---\n",
    "title: \"Network Analysis\"\n",
    "output: html_document\n",
    "---"
   ]
  },
  {
   "cell_type": "markdown",
   "metadata": {},
   "source": [
    "## Assignment Objectives\n",
    "By the end of this practical lab you will be able to:\n",
    "\n",
    "* Build graph / network objects within R that feature vertex and edge attributes\n",
    "* Create graph / network  plots with various layout types\n",
    "* Calculate and plot centrality measures\n",
    "* Use community detection to cluster vertices\n",
    "\n",
    "## Cities of flow\n",
    "We have already covered the various ways in which flow data can be visualized, however, it is increasingly common within urban analytics to build networks from these data or their subsets, and to use graph / network analysis techniques to create summary measures of their structure that help thinking about positioning of entities within systems. These networks may relate to flows between zones, physical networks such as transit systems or the geolocation of individuals within social networks.\n",
    "\n",
    "## Building a graph from origin destination data\n",
    "\n",
    "Using origin-destination flows from the 2011 UK census we will convert these data into a network structure and then explore the various ways in which these can be represented by different graph layout methods.\n",
    "\n",
    "We will first import [Middle Layer Super Output Area level origin-destination data](https://www.nomisweb.co.uk/census/2011/bulk/rOD1)(table: WF01BEW) and then subset this for Greater London using a [boundary file](https://data.london.gov.uk/dataset/statistical-gis-boundary-files-london)."
   ]
  },
  {
   "cell_type": "code",
   "execution_count": null,
   "metadata": {
    "message": false,
    "warning": false
   },
   "outputs": [],
   "source": [
    "library(rgdal,verbose = FALSE)"
   ]
  },
  {
   "cell_type": "code",
   "execution_count": null,
   "metadata": {
    "error": false,
    "lines_to_next_cell": 2,
    "warning": false
   },
   "outputs": [],
   "source": [
    "# Load OD data for England and Wales\n",
    "load(\"./data/wu03ew_msoa.Rdata\")\n",
    "colnames(wu03ew_msoa) <- c(\"Residence\",\"Workplace\",\"All\",\"Mainly_Work_Home\",\"Underground_Tram\",\"Train\",\"Bus\",\"Taxi\",\"Motorcycle\",\"Driving\", \"Passenger_car\",\"Bicycle\",\"Foot\",\"Other\")\n",
    "\n",
    "# Read MSOA boundaries\n",
    "London_SP <- readOGR(\"./data/MSOA_London.geojson\", \"OGRGeoJSON\",verbose = FALSE)\n",
    "\n",
    "# Get a list of MSOA within Greater London\n",
    "MSOA_Lon <- London_SP@data$MSOA11CD\n",
    "\n",
    "# Subset flows to Greater London & remove internal flows (internal flows can also be removed using the simplify() function when the igraph object is created)\n",
    "OD_Flow_London <- subset(wu03ew_msoa, (Residence %in% MSOA_Lon) & (Workplace %in% MSOA_Lon))\n",
    "OD_Flow_London <- OD_Flow_London[as.character(OD_Flow_London$Residence) != as.character(OD_Flow_London$Workplace),]\n",
    "\n",
    "# Show top six rows of data\n",
    "head(OD_Flow_London)"
   ]
  },
  {
   "cell_type": "code",
   "execution_count": null,
   "metadata": {
    "eval": false
   },
   "outputs": [],
   "source": [
    "install.packages(\"igraph\")"
   ]
  },
  {
   "cell_type": "code",
   "execution_count": null,
   "metadata": {
    "message": false,
    "warning": false
   },
   "outputs": [],
   "source": [
    "library(igraph)"
   ]
  },
  {
   "cell_type": "markdown",
   "metadata": {},
   "source": [
    "We will first create an igraph object using the graph_from_data_frame() function. The OD_Flow_London data frame contains origin destination pairs for the residential and workplace locations; alongside total flows and further columns with these broken down by different modes of transport. The graph_from_data_frame() function assumes the first two columns of the data frame are the vertex pairs being defined, and then all other columns are edge characteristics."
   ]
  },
  {
   "cell_type": "code",
   "execution_count": null,
   "metadata": {},
   "outputs": [],
   "source": [
    "# Create igraph object\n",
    "g_London <- graph_from_data_frame(OD_Flow_London, directed=TRUE)"
   ]
  },
  {
   "cell_type": "markdown",
   "metadata": {},
   "source": [
    "Graphs are not always spatial, and as such various plotting algorithms have been developed to optimize the layout of vertices and their connections. We illustrate this in the following plot, however, in most urban applications where the networks are very dense, these can often be confusing and offer limiting visual analytic impact. In this example we have adjusted a series plot options including only plotting flows greater than 20 using delete.edges() and which(), setting a small vertex size and edge width, and adding transparency to the edge color with the adjustcolor() function. Additionally, because this is a directed network (i.e. flows can go in both directions) we have set this mode to off - this ensures that no arrows are plotted. Finally, the [fruchterman.reingold](https://en.wikipedia.org/wiki/Force-directed_graph_drawing) layout is selected which plots the most connected vertex towards the centre of the plot."
   ]
  },
  {
   "cell_type": "code",
   "execution_count": null,
   "metadata": {
    "fig.height": 7
   },
   "outputs": [],
   "source": [
    "# Set the arrow mode to off\n",
    "E(g_London)$arrow.mode <- 0\n",
    "\n",
    "#Layout with fruchterman reingold\n",
    "plot(delete.edges(g_London, which(E(g_London)$All < 20)), vertex.size=2, vertex.label=NA,layout = layout.fruchterman.reingold, edge.width=0.5,vertex.frame.color=NA,vertex.color=\"#FF5733\",edge.color=adjustcolor(\"black\",alpha.f = .2))"
   ]
  },
  {
   "cell_type": "markdown",
   "metadata": {},
   "source": [
    "There are numerous other layouts include random and circle:"
   ]
  },
  {
   "cell_type": "code",
   "execution_count": null,
   "metadata": {
    "fig.height": 7
   },
   "outputs": [],
   "source": [
    "#Layout random\n",
    "plot(delete.edges(g_London, which(E(g_London)$All < 20)), vertex.size=2, vertex.label=NA,layout = layout.random, edge.width=0.5,vertex.frame.color=NA,vertex.color=\"#FF5733\",edge.color=adjustcolor(\"black\",alpha.f = .2))"
   ]
  },
  {
   "cell_type": "code",
   "execution_count": null,
   "metadata": {
    "fig.height": 7
   },
   "outputs": [],
   "source": [
    "#Layout circle\n",
    "plot(delete.edges(g_London, which(E(g_London)$All < 20)), vertex.size=2, vertex.label=NA,layout = layout.circle, edge.width=0.5,vertex.frame.color=NA,vertex.color=\"#FF5733\",edge.color=adjustcolor(\"black\",alpha.f = .2))\n"
   ]
  },
  {
   "cell_type": "markdown",
   "metadata": {},
   "source": [
    "We can also illustrate some of the other plot options that enable the edge width parameters to be scaled - these can be assigned any of the attributes that have been appended to the edges. Here we take the flows by bus, however, we divide these by 20 to reduce the width of the lines when plotted.  We also plot a smaller subset of the full graph that has edges with less than 40 trips removed; and additionally, any vertex where there are no other edge connections (because we have removed edges)."
   ]
  },
  {
   "cell_type": "code",
   "execution_count": null,
   "metadata": {
    "fig.height": 7
   },
   "outputs": [],
   "source": [
    "# Create a smaller network, removing edges where bus less than 40\n",
    "g_London_small <- delete.edges(g_London, which(E(g_London)$Bus < 40))\n",
    "# Remove vertex now with no connecting edges\n",
    "g_London_small <- delete.vertices(g_London_small,which(degree(g_London_small)<1))\n",
    "# Calculate how many verticies have been removed\n",
    "length(V(g_London)) - length(V(g_London_small))\n",
    "# Create plot\n",
    "plot(g_London_small, vertex.size=2, vertex.label=NA,layout = layout.fruchterman.reingold, edge.width=(E(g_London_small)$Bus)/20,vertex.frame.color=NA,vertex.color=\"#FF5733\",edge.color=adjustcolor(\"black\",alpha.f = .4))"
   ]
  },
  {
   "cell_type": "markdown",
   "metadata": {},
   "source": [
    "The created graph comprises a series of self connected sub graphs; and we might be interested to see if these correspond to areas within London. As such we will now re-create our original graph, however, this time appending some additional attributes to the vertices which we will extract from the MSOA zones spatial data frame."
   ]
  },
  {
   "cell_type": "code",
   "execution_count": null,
   "metadata": {},
   "outputs": [],
   "source": [
    "# Show the top six rows of data\n",
    "head(London_SP@data)"
   ]
  },
  {
   "cell_type": "markdown",
   "metadata": {},
   "source": [
    "In addition to the MSOA ID (MSOA11CD) we will extract the \"LAD11NM\" which contains a text name for the local authority within which the MSOA is located, and a centroid for the MSOA zones."
   ]
  },
  {
   "cell_type": "code",
   "execution_count": null,
   "metadata": {},
   "outputs": [],
   "source": [
    "# Create a table of vertex attributes\n",
    "V_attributes <- cbind(London_SP@data[,c(\"MSOA11CD\",\"LAD11NM\")],coordinates(London_SP)[,1],coordinates(London_SP)[,2])\n",
    "# Change the column headings\n",
    "colnames(V_attributes) <- c(\"MSOA11CD\",\"LAD11NM\",\"Easting\",\"Northing\")"
   ]
  },
  {
   "cell_type": "markdown",
   "metadata": {},
   "source": [
    "We will now re-create our original graph and subset this again to bus flows of greater than 40. "
   ]
  },
  {
   "cell_type": "code",
   "execution_count": null,
   "metadata": {
    "fig.height": 7
   },
   "outputs": [],
   "source": [
    "# Create new full graph, with added data frame of vertices attributes\n",
    "g_London_V2 <- graph_from_data_frame(OD_Flow_London, directed=TRUE, vertices = V_attributes)\n",
    "\n",
    "# Set the arrow mode to off\n",
    "E(g_London_V2)$arrow.mode <- 0\n",
    "\n",
    "# Create a smaller network, removing edges where bus less than 40\n",
    "g_London_small_V2 <- delete.edges(g_London_V2, which(E(g_London_V2)$Bus < 40))\n",
    "# Remove vertex now with no connecting edges\n",
    "g_London_small_V2 <- delete.vertices(g_London_small_V2,which(degree(g_London_small_V2)<1))\n"
   ]
  },
  {
   "cell_type": "markdown",
   "metadata": {},
   "source": [
    "We will now create another plot, however, we have increased the vertex size to render these more visible, increased the transparency of flows and also assigned a list of colors (for each node) to the \"vertex.color=\" option. \n",
    "\n",
    "To create the colors we load a new package that can generate effective random color pallets, with the objective to generate a list of colors reflecting each of the local authority divisions. We extract the local authority name for each vertex, convert these to a factor, and then to a numeric. If you remember from an earlier practical (1. Introduction to R), when converting factor directly to a numeric this returns a number based on the underlying factor order. For these purposes this is very helpful as it re-codes the local authority names into a number (e.g.  \"City of London\" becomes 7; \"Barking and Dagenham\" becomes  1). We then use these numbers as an index that selects a color from a potential list of 33 generated with the randomColor() function. \n",
    "\n",
    "You will see that in the created plot many of the nodes appear clustered within boroughs of the same type; these placements (as discussed earlier) relate to edge connectivity density. \n"
   ]
  },
  {
   "cell_type": "code",
   "execution_count": null,
   "metadata": {
    "eval": false,
    "lines_to_next_cell": 0
   },
   "outputs": [],
   "source": [
    "install.packages(\"randomcoloR\")"
   ]
  },
  {
   "cell_type": "code",
   "execution_count": null,
   "metadata": {},
   "outputs": [],
   "source": [
    "library(randomcoloR)"
   ]
  },
  {
   "cell_type": "code",
   "execution_count": null,
   "metadata": {
    "fig.height": 7
   },
   "outputs": [],
   "source": [
    "# Create a list of colours that represent the london borough the node is within\n",
    "Vcol <- randomColor(33,luminosity=\"bright\")[as.numeric(as.factor(V(g_London_small_V2)$LAD11NM))]\n",
    "\n",
    "#Layout graph\n",
    "plot(g_London_small_V2, vertex.size=4, vertex.label=NA,layout = layout.fruchterman.reingold, edge.width=(E(g_London_small_V2)$Bus)/20,vertex.frame.color=NA,vertex.color=Vcol,edge.color=adjustcolor(\"black\",alpha.f = .1))\n"
   ]
  },
  {
   "cell_type": "markdown",
   "metadata": {
    "lines_to_next_cell": 0
   },
   "source": [
    "Given that the nodes relate to real-world features, we can also use their locations to update the plot; thus enabling the graph to be plotted spatially:\n",
    "<a id=\"geo\"></a>"
   ]
  },
  {
   "cell_type": "code",
   "execution_count": null,
   "metadata": {
    "fig.height": 7
   },
   "outputs": [],
   "source": [
    "# Create a list of Easting and Northings for each of the graph vertices\n",
    "graph_layout <- cbind(V(g_London_small_V2)$Easting,V(g_London_small_V2)$Northing)\n",
    "\n",
    "# Layout - spatial \n",
    "plot(g_London_small_V2, vertex.size=4, vertex.label=NA,layout = graph_layout, edge.width=(E(g_London_small_V2)$Bus)/20,vertex.frame.color=NA,vertex.color=Vcol,edge.color=adjustcolor(\"black\",alpha.f = .1))"
   ]
  },
  {
   "cell_type": "markdown",
   "metadata": {},
   "source": [
    "## Graph properties\n",
    "\n",
    "We can generate a range of [centrality](https://en.wikipedia.org/wiki/Centrality) statistics for the vertices - these measures relate to how important each vertex is to the structure of the network / graph. There are a range of different measures which we calculate for the full network below:"
   ]
  },
  {
   "cell_type": "code",
   "execution_count": null,
   "metadata": {},
   "outputs": [],
   "source": [
    "#Create Centrality scores\n",
    "V(g_London_V2)$C_degree=degree(g_London_V2) #degree\n",
    "V(g_London_V2)$C_closeness=closeness(g_London_V2)#closeness\n",
    "V(g_London_V2)$C_evcent <- as.numeric(evcent(g_London_V2)$vector)#Eigenvector"
   ]
  },
  {
   "cell_type": "markdown",
   "metadata": {},
   "source": [
    "We can color the nodes according to their centrality score. However, first we create a color pallet and break the Eigenvector closeness scores into a series of breaks."
   ]
  },
  {
   "cell_type": "code",
   "execution_count": null,
   "metadata": {},
   "outputs": [],
   "source": [
    "library(RColorBrewer)\n",
    "library(classInt)\n",
    "\n",
    "#Fix graph layout\n",
    "graph_layout <- layout.fruchterman.reingold(g_London_V2)\n",
    "\n",
    "#Set colors\n",
    "clr <- brewer.pal(9,\"BuPu\")\n",
    "\n",
    "#Eigenvector\n",
    "breaks <- classIntervals(V(g_London_V2)$C_evcent, n=9, style=\"jenks\",intervalClosure)#Create breaks"
   ]
  },
  {
   "cell_type": "markdown",
   "metadata": {},
   "source": [
    "In this example we will display all flows of greater than 100."
   ]
  },
  {
   "cell_type": "code",
   "execution_count": null,
   "metadata": {
    "fig.height": 7
   },
   "outputs": [],
   "source": [
    "plot(delete.edges(g_London_V2, which(E(g_London_V2)$All < 100)), vertex.size=7, vertex.label=NA,layout = graph_layout, edge.width=.2,vertex.frame.color=NA,vertex.color=findColours(breaks, clr))"
   ]
  },
  {
   "cell_type": "markdown",
   "metadata": {},
   "source": [
    "As we [demonstrated earlier](#geo), because the nodes have a spatial reference we can use these co-ordinates to plot the vertices geographically, however, an alternative approach is to append these vertex scores back onto a spatial polygons data frame and map as a traditional choropleth map:"
   ]
  },
  {
   "cell_type": "code",
   "execution_count": null,
   "metadata": {},
   "outputs": [],
   "source": [
    "# Create a lookup table from the Eigenvector values for each MSOA\n",
    "EV_Lookup <- data.frame(names(V(g_London_V2)),V(g_London_V2)$C_evcent)\n",
    "# Change column names\n",
    "colnames(EV_Lookup) <- c(\"MSOA\",\"Eigenvector\")\n",
    "#Merge onto the MSOA spatial polygons data frame\n",
    "London_SP <- merge(London_SP,EV_Lookup,by.x=\"MSOA11CD\",by.y=\"MSOA\",all.x=TRUE)"
   ]
  },
  {
   "cell_type": "code",
   "execution_count": null,
   "metadata": {
    "message": false,
    "warning": false
   },
   "outputs": [],
   "source": [
    "# Load tmap\n",
    "library(tmap)"
   ]
  },
  {
   "cell_type": "code",
   "execution_count": null,
   "metadata": {
    "lines_to_next_cell": 2
   },
   "outputs": [],
   "source": [
    "# Plot a choropleth of the Eigenvector values\n",
    "m <- tm_shape(London_SP,projection = 27700) +\n",
    "\ttm_polygons(col=\"Eigenvector\", style=\"pretty\",n=5,border.col = \"grey50\",  border.alpha = .5, title=\"Eigenvector\", showNA=FALSE,palette=\"Blues\")\n",
    "\n",
    "# View using leaflet \n",
    "tmap_leaflet(m)"
   ]
  },
  {
   "cell_type": "markdown",
   "metadata": {},
   "source": [
    "## Community detection\n",
    "\n",
    "Community detection is way of segmenting a network into aggregate groups; there are [numerous algorythms](https://en.wikipedia.org/wiki/Community_structure) that can be implemented, but broadly speaking they all aim in different ways to assign vertices into groups where there is a high degree of internal connection. In this example we will use the [infomap community](http://arxiv.org/abs/0707.0609) algorithm to extract clusters for London.\n",
    "\n",
    "However, for very dense networks such as these London commuting flows, many algorithms will either not complete, return poor results or run in an unacceptable length of time. As such, we will first remove edges with small flows from the graph which makes analysis more manageable or feasible. We do this automatically using a while() function that evaluates a statement and if TRUE runs the code within the {}. Before running we set x as 1, so each time the loop is run, this number goes up by 1 and we delete more edges on the next run. For this network, we terminate at 34 where we specify a minimum of 5 edges between vertices."
   ]
  },
  {
   "cell_type": "code",
   "execution_count": null,
   "metadata": {},
   "outputs": [],
   "source": [
    "# Set x as 1\n",
    "x <- 1\n",
    "# Create an initial g_London_small_V3\n",
    "g_London_small_V3 <- g_London\n",
    "\n",
    "# Loop that removes edges\n",
    "while (min(degree(g_London_small_V3)) > 5) {\n",
    "  g_London_small_V3 <- delete.edges(g_London, which(E(g_London)$All < x))\n",
    "  x <- x + 1\n",
    "}\n",
    "x"
   ]
  },
  {
   "cell_type": "markdown",
   "metadata": {},
   "source": [
    "We can then append these cluster results back onto the zones - note we convert the numerical output of the community detection into a capital letter for plotting."
   ]
  },
  {
   "cell_type": "code",
   "execution_count": null,
   "metadata": {},
   "outputs": [],
   "source": [
    "# Calculate edge betweenness\n",
    "IC <- infomap.community(g_London_small_V3,e.weights=E(g_London_small_V3)$All)\n",
    "\n",
    "# Create a lookup table from the infomap.community values for each MSOA\n",
    "IC_Lookup <- data.frame(names(V(g_London_small_V3)),LETTERS[IC$membership])\n",
    "\n",
    "# Change column names\n",
    "colnames(IC_Lookup) <- c(\"MSOA\",\"infomap.community\")\n",
    "\n",
    "#Merge onto the MSOA spatial polygons data frame\n",
    "London_SP <- merge(London_SP,IC_Lookup,by.x=\"MSOA11CD\",by.y=\"MSOA\",all.x=TRUE)"
   ]
  },
  {
   "cell_type": "code",
   "execution_count": null,
   "metadata": {},
   "outputs": [],
   "source": [
    "# Plot a choropleth of the infomap.community values\n",
    "m <- tm_shape(London_SP,projection = 27700) +\n",
    "\ttm_polygons(\"infomap.community\",border.col = \"grey50\",  border.alpha = .5, title=\"Cluster\", showNA=FALSE)\n",
    "\n",
    "# View using leaflet \n",
    "tmap_leaflet(m)"
   ]
  },
  {
   "cell_type": "markdown",
   "metadata": {},
   "source": [
    "# Further resources / training\n",
    "\n",
    "* [Social Network Analysis: Methods and Applications](http://www.cambridge.org/gb/academic/subjects/sociology/sociology-general-interest/social-network-analysis-methods-and-applications?format=PB&isbn=9780521387071) - this is a classic reference on some of the methods implemented in this practical"
   ]
  }
 ],
 "metadata": {
  "jupytext": {
   "cell_metadata_filter": "warning,eval,error,message,fig.height,-all",
   "main_language": "R",
   "notebook_metadata_filter": "-all"
  },
  "kernelspec": {
   "display_name": "Python 3",
   "language": "python",
   "name": "python3"
  },
  "language_info": {
   "codemirror_mode": {
    "name": "ipython",
    "version": 3
   },
   "file_extension": ".py",
   "mimetype": "text/x-python",
   "name": "python",
   "nbconvert_exporter": "python",
   "pygments_lexer": "ipython3",
   "version": "3.7.9"
  }
 },
 "nbformat": 4,
 "nbformat_minor": 4
}
